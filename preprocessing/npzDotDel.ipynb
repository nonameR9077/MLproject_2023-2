{
 "cells": [
  {
   "cell_type": "code",
   "execution_count": 1,
   "id": "initial_id",
   "metadata": {
    "collapsed": true,
    "ExecuteTime": {
     "end_time": "2023-11-26T18:32:17.986399800Z",
     "start_time": "2023-11-26T18:32:17.513756100Z"
    }
   },
   "outputs": [
    {
     "name": "stdout",
     "output_type": "stream",
     "text": [
      "sys.version_info(major=3, minor=11, micro=4, releaselevel='final', serial=0)\n",
      "Scikit-Learn version:  1.3.0\n"
     ]
    }
   ],
   "source": [
    "import sys\n",
    "print(sys.version_info)\n",
    "assert sys.version_info >= (3, 7)\n",
    "\n",
    "from packaging import version\n",
    "import sklearn\n",
    "print (\"Scikit-Learn version: \", sklearn.__version__)\n",
    "assert version.parse(sklearn.__version__) >= version.parse(\"1.0.1\")\n",
    "\n",
    "# Common imports\n",
    "import numpy as np\n",
    "import os\n",
    "\n",
    "# to make this notebook's output stable across runs\n",
    "np.random.seed(42)"
   ]
  },
  {
   "cell_type": "code",
   "execution_count": 2,
   "outputs": [],
   "source": [
    "import matplotlib.pyplot as plt\n",
    "\n",
    "def plot_digit(image_data, axis=False):\n",
    "    image = image_data.reshape(28, 28)\n",
    "    plt.imshow(image, cmap=\"binary\")\n",
    "\n",
    "    if not axis:\n",
    "        plt.axis(\"off\")"
   ],
   "metadata": {
    "collapsed": false,
    "ExecuteTime": {
     "end_time": "2023-11-26T18:32:18.256337200Z",
     "start_time": "2023-11-26T18:32:17.987400100Z"
    }
   },
   "id": "4608281daece81fe"
  },
  {
   "cell_type": "code",
   "execution_count": 3,
   "outputs": [],
   "source": [
    "def plot_multi(img,start=0,end=100):\n",
    "    plt.figure(figsize=(9, 9))\n",
    "    for idx, image_data in enumerate(img[start:end]):\n",
    "        plt.subplot(10, 10, idx + 1)\n",
    "        plot_digit(image_data)\n",
    "    plt.subplots_adjust(wspace=0, hspace=0)\n",
    "    plt.show()"
   ],
   "metadata": {
    "collapsed": false,
    "ExecuteTime": {
     "end_time": "2023-11-26T18:32:18.263222500Z",
     "start_time": "2023-11-26T18:32:18.257337Z"
    }
   },
   "id": "50de1620ec93d8d2"
  },
  {
   "cell_type": "markdown",
   "source": [
    "## data preparation"
   ],
   "metadata": {
    "collapsed": false
   },
   "id": "74988a58f612b466"
  },
  {
   "cell_type": "code",
   "execution_count": 4,
   "outputs": [
    {
     "name": "stdout",
     "output_type": "stream",
     "text": [
      "dataset_cleaned\n"
     ]
    }
   ],
   "source": [
    "from pathlib import Path\n",
    "\n",
    "# this is where the datasets are located\n",
    "path = Path() / \"dataset_cleaned\"\n",
    "print(path)"
   ],
   "metadata": {
    "collapsed": false,
    "ExecuteTime": {
     "end_time": "2023-11-26T18:32:18.265729Z",
     "start_time": "2023-11-26T18:32:18.259931500Z"
    }
   },
   "id": "6764e3959532b860"
  },
  {
   "cell_type": "code",
   "execution_count": 5,
   "outputs": [],
   "source": [
    "# your training datasets\n",
    "# must be cleaned\n",
    "\n",
    "my_data_num = np.load(path / \"digit_data_TrVal_corrected.npz\")\n",
    "my_data_sym = np.load(path / \"op_data_TrVal_corrected.npz\")"
   ],
   "metadata": {
    "collapsed": false,
    "ExecuteTime": {
     "end_time": "2023-11-26T18:32:18.271573300Z",
     "start_time": "2023-11-26T18:32:18.265729Z"
    }
   },
   "id": "f59d3c9d636688d0"
  },
  {
   "cell_type": "markdown",
   "source": [
    "## dot deletion"
   ],
   "metadata": {
    "collapsed": false
   },
   "id": "aa9d2c743bd08d90"
  },
  {
   "cell_type": "code",
   "execution_count": 6,
   "outputs": [
    {
     "data": {
      "text/plain": "<Figure size 640x480 with 1 Axes>",
      "image/png": "[encoded data removed]"
     },
     "metadata": {},
     "output_type": "display_data"
    }
   ],
   "source": [
    "sample = my_data_num[\"img\"][40]\n",
    "plot_digit(sample)"
   ],
   "metadata": {
    "collapsed": false,
    "ExecuteTime": {
     "end_time": "2023-11-26T18:32:18.399292200Z",
     "start_time": "2023-11-26T18:32:18.269573Z"
    }
   },
   "id": "c715466b245eed1c"
  },
  {
   "cell_type": "markdown",
   "source": [
    "we can see that some data includes some dot noise, which our **border_del()** cannot do anything\n",
    "the plan is simple, by using dfs, we can detect the cluster's size, and determine whether it's a real data or\n",
    "it's a not(like size of 3~5)"
   ],
   "metadata": {
    "collapsed": false
   },
   "id": "1ff4272f218ff9a4"
  },
  {
   "cell_type": "code",
   "execution_count": 7,
   "outputs": [],
   "source": [
    "def dfs(r,c,img, visited):\n",
    "    st = list()\n",
    "    st.append([r,c])\n",
    "    \n",
    "    cord = [[1,1],[1,0],[1,-1],[0,1],[0,-1],[-1,1],[-1,0],[-1,-1]]\n",
    "    \n",
    "    dot = list()\n",
    "    \n",
    "    while st:\n",
    "        curr = st.pop()\n",
    "        \n",
    "        if visited[curr[0]][curr[1]] == 1.: continue\n",
    "        \n",
    "        dot.append(curr)\n",
    "        visited[curr[0]][curr[1]] = 1.\n",
    "        \n",
    "        for n,m in enumerate(cord):\n",
    "            row = curr[0] + m[0]\n",
    "            col = curr[1] + m[1]\n",
    "            \n",
    "            if 0 <= row < 28 and 0 <= col < 28:\n",
    "                if img[row][col] != 0. and visited[row][col] == 0.:\n",
    "                    st.append([row,col])\n",
    "            \n",
    "    \n",
    "    return dot,visited"
   ],
   "metadata": {
    "collapsed": false,
    "ExecuteTime": {
     "end_time": "2023-11-26T18:32:18.405976100Z",
     "start_time": "2023-11-26T18:32:18.401291700Z"
    }
   },
   "id": "ec043c5e1c4990f3"
  },
  {
   "cell_type": "code",
   "execution_count": 8,
   "outputs": [],
   "source": [
    "def dfs_search(img):\n",
    "    \n",
    "    # to check whether we visited\n",
    "    isVisited = np.full((28,28),0.)\n",
    "    \n",
    "    # dots that needs to be deleted afterwards\n",
    "    dots = list()\n",
    "    \n",
    "    for i in range(28):\n",
    "        for j in range(28):\n",
    "            if img[i][j] != 0. and not isVisited[i][j]:\n",
    "                dot, isVisited = dfs(i,j,img,isVisited)\n",
    "                \n",
    "                if len(dot) <= 4:\n",
    "                    dots.extend(dot)\n",
    "    \n",
    "    \n",
    "    return dots"
   ],
   "metadata": {
    "collapsed": false,
    "ExecuteTime": {
     "end_time": "2023-11-26T18:32:18.412333100Z",
     "start_time": "2023-11-26T18:32:18.404976Z"
    }
   },
   "id": "f953a4fb859d1061"
  },
  {
   "cell_type": "code",
   "execution_count": 9,
   "outputs": [],
   "source": [
    "t = dfs_search(sample)"
   ],
   "metadata": {
    "collapsed": false,
    "ExecuteTime": {
     "end_time": "2023-11-26T18:32:18.414335700Z",
     "start_time": "2023-11-26T18:32:18.408695500Z"
    }
   },
   "id": "5f8b67c8e1a0d387"
  },
  {
   "cell_type": "code",
   "execution_count": 10,
   "outputs": [
    {
     "data": {
      "text/plain": "[[0, 0], [27, 0]]"
     },
     "execution_count": 10,
     "metadata": {},
     "output_type": "execute_result"
    }
   ],
   "source": [
    "t"
   ],
   "metadata": {
    "collapsed": false,
    "ExecuteTime": {
     "end_time": "2023-11-26T18:32:18.420954700Z",
     "start_time": "2023-11-26T18:32:18.414335700Z"
    }
   },
   "id": "b04bcac79eda5ab3"
  },
  {
   "cell_type": "code",
   "execution_count": 13,
   "outputs": [
    {
     "data": {
      "text/plain": "<Figure size 640x480 with 1 Axes>",
      "image/png": "[encoded data removed]"
     },
     "metadata": {},
     "output_type": "display_data"
    }
   ],
   "source": [
    "for i,j in enumerate(t):\n",
    "    sample[j[0],j[1]] = 0.\n",
    "plot_digit(sample)"
   ],
   "metadata": {
    "collapsed": false,
    "ExecuteTime": {
     "end_time": "2023-11-26T18:35:54.981035400Z",
     "start_time": "2023-11-26T18:35:54.956121200Z"
    }
   },
   "id": "466a4b7c48340efa"
  },
  {
   "cell_type": "markdown",
   "source": [
    "there! let's try other images, just in case"
   ],
   "metadata": {
    "collapsed": false
   },
   "id": "9d06992f909501ea"
  },
  {
   "cell_type": "code",
   "execution_count": 21,
   "outputs": [
    {
     "data": {
      "text/plain": "<Figure size 640x480 with 1 Axes>",
      "image/png": "[encoded data removed]"
     },
     "metadata": {},
     "output_type": "display_data"
    }
   ],
   "source": [
    "sample_other = my_data_num[\"img\"][35]\n",
    "plot_digit(sample_other)"
   ],
   "metadata": {
    "collapsed": false,
    "ExecuteTime": {
     "end_time": "2023-11-26T18:38:24.330211100Z",
     "start_time": "2023-11-26T18:38:24.210549900Z"
    }
   },
   "id": "5ec9b227af6b7285"
  },
  {
   "cell_type": "code",
   "execution_count": 22,
   "outputs": [
    {
     "data": {
      "text/plain": "<Figure size 640x480 with 1 Axes>",
      "image/png": "[encoded data removed]"
     },
     "metadata": {},
     "output_type": "display_data"
    }
   ],
   "source": [
    "t_other = dfs_search(sample_other)\n",
    "\n",
    "for i,j in enumerate(t_other):\n",
    "    sample_other[j[0],j[1]] = 0.\n",
    "plot_digit(sample_other)\n"
   ],
   "metadata": {
    "collapsed": false,
    "ExecuteTime": {
     "end_time": "2023-11-26T18:38:26.634031500Z",
     "start_time": "2023-11-26T18:38:26.600175700Z"
    }
   },
   "id": "4eb9d341fffe5e40"
  },
  {
   "cell_type": "markdown",
   "source": [
    "nice! also finding the appropriate dot size(that should be deleted) may be crucial"
   ],
   "metadata": {
    "collapsed": false
   },
   "id": "17fdcf5fcfcaad12"
  },
  {
   "cell_type": "code",
   "execution_count": null,
   "outputs": [],
   "source": [],
   "metadata": {
    "collapsed": false
   },
   "id": "269256800da5aea6"
  }
 ],
 "metadata": {
  "kernelspec": {
   "display_name": "Python 3",
   "language": "python",
   "name": "python3"
  },
  "language_info": {
   "codemirror_mode": {
    "name": "ipython",
    "version": 2
   },
   "file_extension": ".py",
   "mimetype": "text/x-python",
   "name": "python",
   "nbconvert_exporter": "python",
   "pygments_lexer": "ipython2",
   "version": "2.7.6"
  }
 },
 "nbformat": 4,
 "nbformat_minor": 5
}
