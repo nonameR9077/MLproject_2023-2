{
 "cells": [
  {
   "cell_type": "code",
   "execution_count": 1,
   "id": "initial_id",
   "metadata": {
    "collapsed": true,
    "ExecuteTime": {
     "end_time": "2023-11-14T00:57:40.099752900Z",
     "start_time": "2023-11-14T00:57:38.561727100Z"
    }
   },
   "outputs": [
    {
     "name": "stdout",
     "output_type": "stream",
     "text": [
      "sys.version_info(major=3, minor=11, micro=4, releaselevel='final', serial=0)\n",
      "Scikit-Learn version:  1.3.0\n"
     ]
    }
   ],
   "source": [
    "import sys\n",
    "print(sys.version_info)\n",
    "assert sys.version_info >= (3, 7)\n",
    "\n",
    "from packaging import version\n",
    "import sklearn\n",
    "print (\"Scikit-Learn version: \", sklearn.__version__)\n",
    "assert version.parse(sklearn.__version__) >= version.parse(\"1.0.1\")\n",
    "\n",
    "# Common imports\n",
    "import numpy as np\n",
    "import os\n",
    "\n",
    "# to make this notebook's output stable across runs\n",
    "np.random.seed(42)"
   ]
  },
  {
   "cell_type": "markdown",
   "source": [
    "## data preparation"
   ],
   "metadata": {
    "collapsed": false
   },
   "id": "d9bd89a9421acaa8"
  },
  {
   "cell_type": "code",
   "execution_count": 2,
   "outputs": [
    {
     "name": "stdout",
     "output_type": "stream",
     "text": [
      "npz\n"
     ]
    }
   ],
   "source": [
    "from pathlib import Path\n",
    "\n",
    "path = Path() / \"npz\"\n",
    "print(path)"
   ],
   "metadata": {
    "collapsed": false,
    "ExecuteTime": {
     "end_time": "2023-11-14T00:57:40.839934Z",
     "start_time": "2023-11-14T00:57:40.826964400Z"
    }
   },
   "id": "30f7443c78243349"
  },
  {
   "cell_type": "markdown",
   "source": [
    "### data check\n",
    "**no need if you are sure**"
   ],
   "metadata": {
    "collapsed": false
   },
   "id": "670096b7806eaff6"
  },
  {
   "cell_type": "code",
   "execution_count": 18,
   "outputs": [
    {
     "name": "stdout",
     "output_type": "stream",
     "text": [
      "1번쨰 데이터 체크: \n",
      "(400, 28, 28) (400,) (400, 28, 28) (400,)\n",
      "2번쨰 데이터 체크: \n",
      "(400, 28, 28) (400,) (400, 28, 28) (400,)\n",
      "3번쨰 데이터 체크: \n",
      "(400, 28, 28) (400,) (400, 28, 28) (400,)\n",
      "4번쨰 데이터 체크: \n",
      "(400, 28, 28) (400,) (400, 28, 28) (400,)\n"
     ]
    }
   ],
   "source": [
    "dataSize = 4\n",
    "\n",
    "for i in range(1, dataSize+1):\n",
    "    num_curr = \"num%d.npz\"%i\n",
    "    sym_curr = \"sym%d.npz\"%i\n",
    "    \n",
    "    num = np.load(path / num_curr)\n",
    "    sym = np.load(path / sym_curr)\n",
    "    \n",
    "    num_data, num_label = num['img'], num['label']\n",
    "    sym_data, sym_label = sym['img'], sym['label']\n",
    "    \n",
    "    print(f\"{i}번쨰 데이터 체크: \")\n",
    "    print(num_data.shape,num_label.shape,sym_data.shape,sym_label.shape)"
   ],
   "metadata": {
    "collapsed": false,
    "ExecuteTime": {
     "end_time": "2023-11-13T07:56:54.707433200Z",
     "start_time": "2023-11-13T07:56:54.657873500Z"
    }
   },
   "id": "ce012e9a5ca87b36"
  },
  {
   "cell_type": "markdown",
   "source": [
    "## merge"
   ],
   "metadata": {
    "collapsed": false
   },
   "id": "300e9278ec1571d7"
  },
  {
   "cell_type": "code",
   "execution_count": 12,
   "outputs": [
    {
     "name": "stdout",
     "output_type": "stream",
     "text": [
      "(1600, 784) (1600,) (1600, 784) (1600,)\n"
     ]
    }
   ],
   "source": [
    "dataSize = 4\n",
    "num_final_data = []\n",
    "sym_final_data = []\n",
    "\n",
    "num_final_label = []\n",
    "sym_final_label = []\n",
    "\n",
    "for i in range(1, dataSize+1):\n",
    "    num_curr = \"num%d.npz\"%i\n",
    "    sym_curr = \"sym%d.npz\"%i\n",
    "    \n",
    "    num = np.load(path / num_curr)\n",
    "    sym = np.load(path / sym_curr)\n",
    "    \n",
    "    num_data, num_label = num['img'].reshape(400,784), num['label'].astype(str)\n",
    "    \n",
    "    # set 1. to int value 255\n",
    "    num_data[num_data == 1.] = 255.\n",
    "    num_data = num_data.astype(np.int64)\n",
    "    \n",
    "    sym_data, sym_label = sym['img'].reshape(400,784), sym['label'].astype(str)\n",
    "    \n",
    "    # set 1. to int value 255\n",
    "    sym_data[sym_data == 1.] = 255.\n",
    "    sym_data = sym_data.astype(np.int64)\n",
    "    \n",
    "    if i == 1:\n",
    "        num_final_label = num_label\n",
    "        sym_final_label = sym_label\n",
    "        \n",
    "        num_final_data = num_data\n",
    "        sym_final_data = sym_data\n",
    "    else:\n",
    "        num_final_data = np.concatenate((num_final_data, num_data), axis=0)\n",
    "        sym_final_data = np.concatenate((sym_final_data, sym_data), axis=0)\n",
    "        \n",
    "        num_final_label = np.concatenate((num_final_label, num_label), axis=0)\n",
    "        sym_final_label = np.concatenate((sym_final_label, sym_label), axis=0)\n",
    "\n",
    "print(num_final_data.shape, num_final_label.shape,sym_final_data.shape,sym_final_label.shape)"
   ],
   "metadata": {
    "collapsed": false,
    "ExecuteTime": {
     "end_time": "2023-11-14T01:08:19.560717600Z",
     "start_time": "2023-11-14T01:08:19.476052300Z"
    }
   },
   "id": "43be9ad02aaebf2e"
  },
  {
   "cell_type": "markdown",
   "source": [
    "## save"
   ],
   "metadata": {
    "collapsed": false
   },
   "id": "61fae453ab10da7d"
  },
  {
   "cell_type": "code",
   "execution_count": 13,
   "outputs": [],
   "source": [
    "np.savez_compressed(path / 'fixed2_final_num.npz',img=num_final_data,label=num_final_label)\n",
    "np.savez_compressed(path / 'fixed2_final_sym.npz',img=sym_final_data,label=sym_final_label)"
   ],
   "metadata": {
    "collapsed": false,
    "ExecuteTime": {
     "end_time": "2023-11-14T01:08:23.535458600Z",
     "start_time": "2023-11-14T01:08:23.366519200Z"
    }
   },
   "id": "236205e560d66b57"
  },
  {
   "cell_type": "markdown",
   "source": [
    "## check"
   ],
   "metadata": {
    "collapsed": false
   },
   "id": "fe157e48ff2b1108"
  },
  {
   "cell_type": "code",
   "execution_count": 14,
   "outputs": [
    {
     "name": "stdout",
     "output_type": "stream",
     "text": [
      "(1600, 784) int64 (1600,) <U11\n"
     ]
    }
   ],
   "source": [
    "test_data=np.load(path / 'fixed2_final_num.npz')\n",
    "print(test_data['img'].shape, test_data['img'].dtype, test_data['label'].shape, test_data['label'].dtype)"
   ],
   "metadata": {
    "collapsed": false,
    "ExecuteTime": {
     "end_time": "2023-11-14T01:08:25.074080400Z",
     "start_time": "2023-11-14T01:08:24.993123400Z"
    }
   },
   "id": "36c9b681e7af5f65"
  },
  {
   "cell_type": "code",
   "execution_count": 16,
   "outputs": [
    {
     "data": {
      "text/plain": "array(['0', '1', '2', ..., '7', '8', '9'], dtype='<U11')"
     },
     "execution_count": 16,
     "metadata": {},
     "output_type": "execute_result"
    }
   ],
   "source": [
    "test_data['label']"
   ],
   "metadata": {
    "collapsed": false,
    "ExecuteTime": {
     "end_time": "2023-11-14T01:10:15.691649300Z",
     "start_time": "2023-11-14T01:10:15.661979400Z"
    }
   },
   "id": "46e3226985b1f949"
  },
  {
   "cell_type": "code",
   "execution_count": null,
   "outputs": [],
   "source": [],
   "metadata": {
    "collapsed": false
   },
   "id": "af4b0de626112bae"
  }
 ],
 "metadata": {
  "kernelspec": {
   "display_name": "Python 3",
   "language": "python",
   "name": "python3"
  },
  "language_info": {
   "codemirror_mode": {
    "name": "ipython",
    "version": 2
   },
   "file_extension": ".py",
   "mimetype": "text/x-python",
   "name": "python",
   "nbconvert_exporter": "python",
   "pygments_lexer": "ipython2",
   "version": "2.7.6"
  }
 },
 "nbformat": 4,
 "nbformat_minor": 5
}
