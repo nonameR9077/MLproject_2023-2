{
 "cells": [
  {
   "cell_type": "code",
   "execution_count": 1,
   "id": "initial_id",
   "metadata": {
    "collapsed": true,
    "ExecuteTime": {
     "end_time": "2023-11-23T01:25:58.410484500Z",
     "start_time": "2023-11-23T01:25:56.725958500Z"
    }
   },
   "outputs": [
    {
     "name": "stdout",
     "output_type": "stream",
     "text": [
      "sys.version_info(major=3, minor=11, micro=4, releaselevel='final', serial=0)\n",
      "Scikit-Learn version:  1.3.0\n"
     ]
    }
   ],
   "source": [
    "import sys\n",
    "print(sys.version_info)\n",
    "assert sys.version_info >= (3, 7)\n",
    "\n",
    "from packaging import version\n",
    "import sklearn\n",
    "print (\"Scikit-Learn version: \", sklearn.__version__)\n",
    "assert version.parse(sklearn.__version__) >= version.parse(\"1.0.1\")\n",
    "\n",
    "# Common imports\n",
    "import numpy as np\n",
    "import os\n",
    "\n",
    "# to make this notebook's output stable across runs\n",
    "np.random.seed(42)"
   ]
  },
  {
   "cell_type": "markdown",
   "source": [
    "here we're trying to get the wrong labeled data (like \"=\" is labeled to \"+\")\n",
    "BUT it is impossible to check all 17000 img and check them(we can, but... really?)\n",
    "or we can use the model to identify them"
   ],
   "metadata": {
    "collapsed": false
   },
   "id": "4e7912ea5b7dbcc0"
  },
  {
   "cell_type": "markdown",
   "source": [
    "how? by using well-trained model! we have Mnist!\n",
    "so the plan is;\n",
    "1. train the mnist that has a good score(like 0.97 or 98)\n",
    "2. for each img check the score using our mnist model. If the score is quite low(to a certain threshold, we may assume that is it mislabeled\n",
    "3. check the img and label, and fix\n",
    "\n",
    "this may minimize our man-work"
   ],
   "metadata": {
    "collapsed": false
   },
   "id": "5c05ebee476fb7d3"
  },
  {
   "cell_type": "code",
   "execution_count": 2,
   "outputs": [
    {
     "name": "stdout",
     "output_type": "stream",
     "text": [
      "npz\\asdf\n"
     ]
    }
   ],
   "source": [
    "from pathlib import Path\n",
    "\n",
    "path = Path() / \"npz\" / \"asdf\"\n",
    "print(path)"
   ],
   "metadata": {
    "collapsed": false,
    "ExecuteTime": {
     "end_time": "2023-11-23T01:25:58.429602300Z",
     "start_time": "2023-11-23T01:25:58.411491400Z"
    }
   },
   "id": "2bdf10d3a163da9e"
  },
  {
   "cell_type": "markdown",
   "source": [
    "## dataset preparation"
   ],
   "metadata": {
    "collapsed": false
   },
   "id": "b84b7c6e19293448"
  },
  {
   "cell_type": "code",
   "execution_count": 3,
   "outputs": [],
   "source": [
    "from sklearn.datasets import fetch_openml\n",
    "\n",
    "openml = fetch_openml('mnist_784', as_frame=False, parser=\"auto\")\n",
    "mnist = openml\n",
    "\n",
    "# get the latest datasets\n",
    "curr_data_num_trVal = np.load(path / \"digit_data_TrVal_corrected.npz\")\n",
    "curr_data_sym_trVal = np.load(path / \"op_data_TrVal_corrected.npz\")\n",
    "\n",
    "curr_data_num_test = np.load(path / \"digit_data_10_Test_corrected.npz\")\n",
    "curr_data_sym_test = np.load(path / \"op_data_10_Test_corrected.npz\")"
   ],
   "metadata": {
    "collapsed": false,
    "ExecuteTime": {
     "end_time": "2023-11-23T01:26:03.528315Z",
     "start_time": "2023-11-23T01:25:58.417523200Z"
    }
   },
   "id": "8eb31b3b6ffa2fc6"
  },
  {
   "cell_type": "markdown",
   "source": [
    "## prepare models"
   ],
   "metadata": {
    "collapsed": false
   },
   "id": "86609c35b7ceeb8d"
  },
  {
   "cell_type": "markdown",
   "source": [
    "currently, our strongest model so far is the assemble model, with 0.97 score"
   ],
   "metadata": {
    "collapsed": false
   },
   "id": "8bf4746e5413c68"
  },
  {
   "cell_type": "markdown",
   "source": [
    "### mnist"
   ],
   "metadata": {
    "collapsed": false
   },
   "id": "1c4937308adb7dd5"
  },
  {
   "cell_type": "code",
   "execution_count": 4,
   "outputs": [],
   "source": [
    "# from sklearn.ensemble import RandomForestClassifier, VotingClassifier\n",
    "# from sklearn.linear_model import LogisticRegression\n",
    "# from sklearn.svm import SVC\n",
    "# \n",
    "# voting_clf = VotingClassifier(\n",
    "#     estimators=[\n",
    "#         ('lr', LogisticRegression(random_state=42)),\n",
    "#         ('rf', RandomForestClassifier(random_state=42)),\n",
    "#         ('svc', SVC(random_state=42))\n",
    "#     ]\n",
    "# ,voting=\"soft\",n_jobs=-1)\n",
    "# X_train, y_train = mnist.data, mnist.target\n",
    "# voting_clf.fit(X_train, y_train)"
   ],
   "metadata": {
    "collapsed": false,
    "ExecuteTime": {
     "end_time": "2023-11-23T01:26:03.535733300Z",
     "start_time": "2023-11-23T01:26:03.533253Z"
    }
   },
   "id": "f7ea242ff6508872"
  },
  {
   "cell_type": "code",
   "execution_count": 34,
   "outputs": [
    {
     "data": {
      "text/plain": "Pipeline(steps=[('standardscaler', StandardScaler()),\n                ('mlpclassifier',\n                 MLPClassifier(max_iter=300, random_state=42, solver='lbfgs'))])",
      "text/html": "<style>#sk-container-id-3 {color: black;}#sk-container-id-3 pre{padding: 0;}#sk-container-id-3 div.sk-toggleable {background-color: white;}#sk-container-id-3 label.sk-toggleable__label {cursor: pointer;display: block;width: 100%;margin-bottom: 0;padding: 0.3em;box-sizing: border-box;text-align: center;}#sk-container-id-3 label.sk-toggleable__label-arrow:before {content: \"▸\";float: left;margin-right: 0.25em;color: #696969;}#sk-container-id-3 label.sk-toggleable__label-arrow:hover:before {color: black;}#sk-container-id-3 div.sk-estimator:hover label.sk-toggleable__label-arrow:before {color: black;}#sk-container-id-3 div.sk-toggleable__content {max-height: 0;max-width: 0;overflow: hidden;text-align: left;background-color: #f0f8ff;}#sk-container-id-3 div.sk-toggleable__content pre {margin: 0.2em;color: black;border-radius: 0.25em;background-color: #f0f8ff;}#sk-container-id-3 input.sk-toggleable__control:checked~div.sk-toggleable__content {max-height: 200px;max-width: 100%;overflow: auto;}#sk-container-id-3 input.sk-toggleable__control:checked~label.sk-toggleable__label-arrow:before {content: \"▾\";}#sk-container-id-3 div.sk-estimator input.sk-toggleable__control:checked~label.sk-toggleable__label {background-color: #d4ebff;}#sk-container-id-3 div.sk-label input.sk-toggleable__control:checked~label.sk-toggleable__label {background-color: #d4ebff;}#sk-container-id-3 input.sk-hidden--visually {border: 0;clip: rect(1px 1px 1px 1px);clip: rect(1px, 1px, 1px, 1px);height: 1px;margin: -1px;overflow: hidden;padding: 0;position: absolute;width: 1px;}#sk-container-id-3 div.sk-estimator {font-family: monospace;background-color: #f0f8ff;border: 1px dotted black;border-radius: 0.25em;box-sizing: border-box;margin-bottom: 0.5em;}#sk-container-id-3 div.sk-estimator:hover {background-color: #d4ebff;}#sk-container-id-3 div.sk-parallel-item::after {content: \"\";width: 100%;border-bottom: 1px solid gray;flex-grow: 1;}#sk-container-id-3 div.sk-label:hover label.sk-toggleable__label {background-color: #d4ebff;}#sk-container-id-3 div.sk-serial::before {content: \"\";position: absolute;border-left: 1px solid gray;box-sizing: border-box;top: 0;bottom: 0;left: 50%;z-index: 0;}#sk-container-id-3 div.sk-serial {display: flex;flex-direction: column;align-items: center;background-color: white;padding-right: 0.2em;padding-left: 0.2em;position: relative;}#sk-container-id-3 div.sk-item {position: relative;z-index: 1;}#sk-container-id-3 div.sk-parallel {display: flex;align-items: stretch;justify-content: center;background-color: white;position: relative;}#sk-container-id-3 div.sk-item::before, #sk-container-id-3 div.sk-parallel-item::before {content: \"\";position: absolute;border-left: 1px solid gray;box-sizing: border-box;top: 0;bottom: 0;left: 50%;z-index: -1;}#sk-container-id-3 div.sk-parallel-item {display: flex;flex-direction: column;z-index: 1;position: relative;background-color: white;}#sk-container-id-3 div.sk-parallel-item:first-child::after {align-self: flex-end;width: 50%;}#sk-container-id-3 div.sk-parallel-item:last-child::after {align-self: flex-start;width: 50%;}#sk-container-id-3 div.sk-parallel-item:only-child::after {width: 0;}#sk-container-id-3 div.sk-dashed-wrapped {border: 1px dashed gray;margin: 0 0.4em 0.5em 0.4em;box-sizing: border-box;padding-bottom: 0.4em;background-color: white;}#sk-container-id-3 div.sk-label label {font-family: monospace;font-weight: bold;display: inline-block;line-height: 1.2em;}#sk-container-id-3 div.sk-label-container {text-align: center;}#sk-container-id-3 div.sk-container {/* jupyter's `normalize.less` sets `[hidden] { display: none; }` but bootstrap.min.css set `[hidden] { display: none !important; }` so we also need the `!important` here to be able to override the default hidden behavior on the sphinx rendered scikit-learn.org. See: https://github.com/scikit-learn/scikit-learn/issues/21755 */display: inline-block !important;position: relative;}#sk-container-id-3 div.sk-text-repr-fallback {display: none;}</style><div id=\"sk-container-id-3\" class=\"sk-top-container\"><div class=\"sk-text-repr-fallback\"><pre>Pipeline(steps=[(&#x27;standardscaler&#x27;, StandardScaler()),\n                (&#x27;mlpclassifier&#x27;,\n                 MLPClassifier(max_iter=300, random_state=42, solver=&#x27;lbfgs&#x27;))])</pre><b>In a Jupyter environment, please rerun this cell to show the HTML representation or trust the notebook. <br />On GitHub, the HTML representation is unable to render, please try loading this page with nbviewer.org.</b></div><div class=\"sk-container\" hidden><div class=\"sk-item sk-dashed-wrapped\"><div class=\"sk-label-container\"><div class=\"sk-label sk-toggleable\"><input class=\"sk-toggleable__control sk-hidden--visually\" id=\"sk-estimator-id-7\" type=\"checkbox\" ><label for=\"sk-estimator-id-7\" class=\"sk-toggleable__label sk-toggleable__label-arrow\">Pipeline</label><div class=\"sk-toggleable__content\"><pre>Pipeline(steps=[(&#x27;standardscaler&#x27;, StandardScaler()),\n                (&#x27;mlpclassifier&#x27;,\n                 MLPClassifier(max_iter=300, random_state=42, solver=&#x27;lbfgs&#x27;))])</pre></div></div></div><div class=\"sk-serial\"><div class=\"sk-item\"><div class=\"sk-estimator sk-toggleable\"><input class=\"sk-toggleable__control sk-hidden--visually\" id=\"sk-estimator-id-8\" type=\"checkbox\" ><label for=\"sk-estimator-id-8\" class=\"sk-toggleable__label sk-toggleable__label-arrow\">StandardScaler</label><div class=\"sk-toggleable__content\"><pre>StandardScaler()</pre></div></div></div><div class=\"sk-item\"><div class=\"sk-estimator sk-toggleable\"><input class=\"sk-toggleable__control sk-hidden--visually\" id=\"sk-estimator-id-9\" type=\"checkbox\" ><label for=\"sk-estimator-id-9\" class=\"sk-toggleable__label sk-toggleable__label-arrow\">MLPClassifier</label><div class=\"sk-toggleable__content\"><pre>MLPClassifier(max_iter=300, random_state=42, solver=&#x27;lbfgs&#x27;)</pre></div></div></div></div></div></div></div>"
     },
     "execution_count": 34,
     "metadata": {},
     "output_type": "execute_result"
    }
   ],
   "source": [
    "from sklearn.neural_network import MLPClassifier\n",
    "from sklearn.preprocessing import StandardScaler\n",
    "from sklearn.pipeline import make_pipeline\n",
    "from sklearn.preprocessing import RobustScaler\n",
    "\n",
    "random = 42\n",
    "\n",
    "# StandardScaler 사용\n",
    "nn_clf_mnist = make_pipeline(StandardScaler(), MLPClassifier(random_state=random,solver=\"lbfgs\",max_iter=300))\n",
    "X_train, y_train = mnist.data / 255, mnist.target\n",
    "nn_clf_mnist.fit(X_train, y_train)"
   ],
   "metadata": {
    "collapsed": false,
    "ExecuteTime": {
     "end_time": "2023-11-23T04:49:59.901619200Z",
     "start_time": "2023-11-23T04:49:33.179067600Z"
    }
   },
   "id": "20453aed9951b3bd"
  },
  {
   "cell_type": "code",
   "execution_count": 6,
   "outputs": [
    {
     "data": {
      "text/plain": "array([0.96957143, 0.96914286, 0.96707143, 0.96621429, 0.974     ])"
     },
     "execution_count": 6,
     "metadata": {},
     "output_type": "execute_result"
    }
   ],
   "source": [
    "from sklearn.model_selection import cross_val_score\n",
    "\n",
    "cross_val_score(nn_clf_mnist, X_train, y_train, cv=5)"
   ],
   "metadata": {
    "collapsed": false,
    "ExecuteTime": {
     "end_time": "2023-11-23T01:30:45.002273700Z",
     "start_time": "2023-11-23T01:26:38.710774500Z"
    }
   },
   "id": "860a852e4b2c3078"
  },
  {
   "cell_type": "markdown",
   "source": [
    "### our data"
   ],
   "metadata": {
    "collapsed": false
   },
   "id": "d4d6418e3d5be66b"
  },
  {
   "cell_type": "code",
   "execution_count": 7,
   "outputs": [],
   "source": [
    "def rebase_center(img):\n",
    "    r = 28\n",
    "    c = 28\n",
    "\n",
    "    # each boundary\n",
    "    r_top = r\n",
    "    r_bot = -1\n",
    "    c_left = c\n",
    "    c_right = -1\n",
    "\n",
    "    for n in range(r):\n",
    "        for m in range(c):\n",
    "            \n",
    "            # if the pixel has whatever value\n",
    "            if img[n][m] != 0:\n",
    "                # update the boundary\n",
    "                r_top = min(r_top, n)\n",
    "                r_bot = max(r_bot, n)\n",
    "                c_left = min(c_left, m)\n",
    "                c_right = max(c_right, m)\n",
    "    \n",
    "    # print(r_top,r_bot,c_left,c_right)\n",
    "    \n",
    "    c_len = c_right - c_left + 1\n",
    "    r_len = r_bot - r_top + 1\n",
    "\n",
    "    c_start = int((c - c_len) / 2)\n",
    "    r_start = int((r - r_len) / 2)\n",
    "\n",
    "    # print(c_len,r_len,c_start,r_start)\n",
    "\n",
    "    rebased_data = np.zeros((r,c),dtype=\"float64\")\n",
    "\n",
    "    # rebase into a center\n",
    "    rebased_data[r_start:r_start+r_len, c_start:c_start+c_len] = img[r_top:r_bot+1, c_left:c_right+1]\n",
    "    \n",
    "    return rebased_data\n"
   ],
   "metadata": {
    "collapsed": false,
    "ExecuteTime": {
     "end_time": "2023-11-23T01:30:45.099004400Z",
     "start_time": "2023-11-23T01:30:45.026935800Z"
    }
   },
   "id": "d224c74b83b1f7c9"
  },
  {
   "cell_type": "code",
   "execution_count": 8,
   "outputs": [],
   "source": [
    "def detect_del_boundary(img, thickness=4, threshold=10):\n",
    "    curr = np.reshape(img, (28, 28))\n",
    "\n",
    "    # how much you want to look at\n",
    "    t = thickness\n",
    "    # the threshold\n",
    "    threshold_t = threshold\n",
    "\n",
    "    cnt_top = np.count_nonzero(curr[0:t, :])\n",
    "    cnt_down = np.count_nonzero(curr[28 - t:28, :])\n",
    "    cnt_left = np.count_nonzero(curr[:, 0:t])\n",
    "    cnt_right = np.count_nonzero(curr[:, 28 - t:28])\n",
    "\n",
    "    flag = False\n",
    "\n",
    "    if cnt_top > threshold_t:\n",
    "        curr[0:t, :] = 0.\n",
    "        flag = True\n",
    "\n",
    "    if cnt_down > threshold_t:\n",
    "        curr[28 - t:28, :] = 0.\n",
    "        flag = True\n",
    "\n",
    "    if cnt_left > threshold_t:\n",
    "        curr[:, 0:t] = 0.\n",
    "        flag = True\n",
    "\n",
    "    if cnt_right > threshold_t:\n",
    "        curr[:, 28 - t:28] = 0.\n",
    "        flag = True\n",
    "\n",
    "    return rebase_center(curr) if flag is True else curr\n"
   ],
   "metadata": {
    "collapsed": false,
    "ExecuteTime": {
     "end_time": "2023-11-23T01:30:45.207538500Z",
     "start_time": "2023-11-23T01:30:45.034347200Z"
    }
   },
   "id": "ceb1bafcbee34106"
  },
  {
   "cell_type": "code",
   "execution_count": 9,
   "outputs": [],
   "source": [
    "def preprocessing(img, rebase=True, b_del=True, thick=True, one_array=True):    \n",
    "    size = np.shape(img)[0]\n",
    "    \n",
    "    # row and column length\n",
    "    r = 28\n",
    "    c = 28\n",
    "    \n",
    "    # reshape to 2-d array(for convenience)\n",
    "    img_preprocessed = np.reshape(img,(size,r,c))\n",
    "    \n",
    "    # rebase\n",
    "    if rebase:\n",
    "        print(\"rebase ongoing\")\n",
    "        \n",
    "        for x in range(size):\n",
    "            img_preprocessed[x] = rebase_center(img_preprocessed[x])\n",
    "        print(\"done!\")\n",
    "    \n",
    "    # border deletion\n",
    "    if b_del:\n",
    "        print(\"border deletion ongoing\")\n",
    "        \n",
    "        for x in range(size):\n",
    "            img_preprocessed[x] = detect_del_boundary(img_preprocessed[x])\n",
    "            \n",
    "        print(\"done!\")\n",
    "    \n",
    "    # thickening\n",
    "    if thick:\n",
    "        print(\"thickening ongoing\")\n",
    "        \n",
    "        print(\"done!\")\n",
    "    \n",
    "    return np.reshape(img_preprocessed,(size,r*c)) if one_array else np.reshape(img_preprocessed,(size,r,c))\n"
   ],
   "metadata": {
    "collapsed": false,
    "ExecuteTime": {
     "end_time": "2023-11-23T01:30:45.207538500Z",
     "start_time": "2023-11-23T01:30:45.065440900Z"
    }
   },
   "id": "f86711fc66a44f47"
  },
  {
   "cell_type": "code",
   "execution_count": 10,
   "outputs": [
    {
     "name": "stdout",
     "output_type": "stream",
     "text": [
      "rebase ongoing\n",
      "done!\n",
      "border deletion ongoing\n",
      "done!\n",
      "thickening ongoing\n",
      "done!\n"
     ]
    },
    {
     "data": {
      "text/plain": "Pipeline(steps=[('robustscaler', RobustScaler()),\n                ('mlpclassifier',\n                 MLPClassifier(max_iter=300, random_state=42, solver='lbfgs'))])",
      "text/html": "<style>#sk-container-id-2 {color: black;}#sk-container-id-2 pre{padding: 0;}#sk-container-id-2 div.sk-toggleable {background-color: white;}#sk-container-id-2 label.sk-toggleable__label {cursor: pointer;display: block;width: 100%;margin-bottom: 0;padding: 0.3em;box-sizing: border-box;text-align: center;}#sk-container-id-2 label.sk-toggleable__label-arrow:before {content: \"▸\";float: left;margin-right: 0.25em;color: #696969;}#sk-container-id-2 label.sk-toggleable__label-arrow:hover:before {color: black;}#sk-container-id-2 div.sk-estimator:hover label.sk-toggleable__label-arrow:before {color: black;}#sk-container-id-2 div.sk-toggleable__content {max-height: 0;max-width: 0;overflow: hidden;text-align: left;background-color: #f0f8ff;}#sk-container-id-2 div.sk-toggleable__content pre {margin: 0.2em;color: black;border-radius: 0.25em;background-color: #f0f8ff;}#sk-container-id-2 input.sk-toggleable__control:checked~div.sk-toggleable__content {max-height: 200px;max-width: 100%;overflow: auto;}#sk-container-id-2 input.sk-toggleable__control:checked~label.sk-toggleable__label-arrow:before {content: \"▾\";}#sk-container-id-2 div.sk-estimator input.sk-toggleable__control:checked~label.sk-toggleable__label {background-color: #d4ebff;}#sk-container-id-2 div.sk-label input.sk-toggleable__control:checked~label.sk-toggleable__label {background-color: #d4ebff;}#sk-container-id-2 input.sk-hidden--visually {border: 0;clip: rect(1px 1px 1px 1px);clip: rect(1px, 1px, 1px, 1px);height: 1px;margin: -1px;overflow: hidden;padding: 0;position: absolute;width: 1px;}#sk-container-id-2 div.sk-estimator {font-family: monospace;background-color: #f0f8ff;border: 1px dotted black;border-radius: 0.25em;box-sizing: border-box;margin-bottom: 0.5em;}#sk-container-id-2 div.sk-estimator:hover {background-color: #d4ebff;}#sk-container-id-2 div.sk-parallel-item::after {content: \"\";width: 100%;border-bottom: 1px solid gray;flex-grow: 1;}#sk-container-id-2 div.sk-label:hover label.sk-toggleable__label {background-color: #d4ebff;}#sk-container-id-2 div.sk-serial::before {content: \"\";position: absolute;border-left: 1px solid gray;box-sizing: border-box;top: 0;bottom: 0;left: 50%;z-index: 0;}#sk-container-id-2 div.sk-serial {display: flex;flex-direction: column;align-items: center;background-color: white;padding-right: 0.2em;padding-left: 0.2em;position: relative;}#sk-container-id-2 div.sk-item {position: relative;z-index: 1;}#sk-container-id-2 div.sk-parallel {display: flex;align-items: stretch;justify-content: center;background-color: white;position: relative;}#sk-container-id-2 div.sk-item::before, #sk-container-id-2 div.sk-parallel-item::before {content: \"\";position: absolute;border-left: 1px solid gray;box-sizing: border-box;top: 0;bottom: 0;left: 50%;z-index: -1;}#sk-container-id-2 div.sk-parallel-item {display: flex;flex-direction: column;z-index: 1;position: relative;background-color: white;}#sk-container-id-2 div.sk-parallel-item:first-child::after {align-self: flex-end;width: 50%;}#sk-container-id-2 div.sk-parallel-item:last-child::after {align-self: flex-start;width: 50%;}#sk-container-id-2 div.sk-parallel-item:only-child::after {width: 0;}#sk-container-id-2 div.sk-dashed-wrapped {border: 1px dashed gray;margin: 0 0.4em 0.5em 0.4em;box-sizing: border-box;padding-bottom: 0.4em;background-color: white;}#sk-container-id-2 div.sk-label label {font-family: monospace;font-weight: bold;display: inline-block;line-height: 1.2em;}#sk-container-id-2 div.sk-label-container {text-align: center;}#sk-container-id-2 div.sk-container {/* jupyter's `normalize.less` sets `[hidden] { display: none; }` but bootstrap.min.css set `[hidden] { display: none !important; }` so we also need the `!important` here to be able to override the default hidden behavior on the sphinx rendered scikit-learn.org. See: https://github.com/scikit-learn/scikit-learn/issues/21755 */display: inline-block !important;position: relative;}#sk-container-id-2 div.sk-text-repr-fallback {display: none;}</style><div id=\"sk-container-id-2\" class=\"sk-top-container\"><div class=\"sk-text-repr-fallback\"><pre>Pipeline(steps=[(&#x27;robustscaler&#x27;, RobustScaler()),\n                (&#x27;mlpclassifier&#x27;,\n                 MLPClassifier(max_iter=300, random_state=42, solver=&#x27;lbfgs&#x27;))])</pre><b>In a Jupyter environment, please rerun this cell to show the HTML representation or trust the notebook. <br />On GitHub, the HTML representation is unable to render, please try loading this page with nbviewer.org.</b></div><div class=\"sk-container\" hidden><div class=\"sk-item sk-dashed-wrapped\"><div class=\"sk-label-container\"><div class=\"sk-label sk-toggleable\"><input class=\"sk-toggleable__control sk-hidden--visually\" id=\"sk-estimator-id-4\" type=\"checkbox\" ><label for=\"sk-estimator-id-4\" class=\"sk-toggleable__label sk-toggleable__label-arrow\">Pipeline</label><div class=\"sk-toggleable__content\"><pre>Pipeline(steps=[(&#x27;robustscaler&#x27;, RobustScaler()),\n                (&#x27;mlpclassifier&#x27;,\n                 MLPClassifier(max_iter=300, random_state=42, solver=&#x27;lbfgs&#x27;))])</pre></div></div></div><div class=\"sk-serial\"><div class=\"sk-item\"><div class=\"sk-estimator sk-toggleable\"><input class=\"sk-toggleable__control sk-hidden--visually\" id=\"sk-estimator-id-5\" type=\"checkbox\" ><label for=\"sk-estimator-id-5\" class=\"sk-toggleable__label sk-toggleable__label-arrow\">RobustScaler</label><div class=\"sk-toggleable__content\"><pre>RobustScaler()</pre></div></div></div><div class=\"sk-item\"><div class=\"sk-estimator sk-toggleable\"><input class=\"sk-toggleable__control sk-hidden--visually\" id=\"sk-estimator-id-6\" type=\"checkbox\" ><label for=\"sk-estimator-id-6\" class=\"sk-toggleable__label sk-toggleable__label-arrow\">MLPClassifier</label><div class=\"sk-toggleable__content\"><pre>MLPClassifier(max_iter=300, random_state=42, solver=&#x27;lbfgs&#x27;)</pre></div></div></div></div></div></div></div>"
     },
     "execution_count": 10,
     "metadata": {},
     "output_type": "execute_result"
    }
   ],
   "source": [
    "# RobustScaler 사용\n",
    "nn_clf_ours = make_pipeline(RobustScaler(), MLPClassifier(random_state=random,solver=\"lbfgs\",max_iter=300))\n",
    "X_train_ours, y_train_ours = preprocessing(curr_data_num_trVal[\"img\"].copy()), curr_data_num_trVal[\"label\"].copy()\n",
    "\n",
    "nn_clf_ours.fit(X_train_ours, y_train_ours)"
   ],
   "metadata": {
    "collapsed": false,
    "ExecuteTime": {
     "end_time": "2023-11-23T01:31:33.424461300Z",
     "start_time": "2023-11-23T01:30:45.099004400Z"
    }
   },
   "id": "9ddbbbd7b5c63746"
  },
  {
   "cell_type": "code",
   "execution_count": 11,
   "outputs": [
    {
     "data": {
      "text/plain": "array([0.76006768, 0.77428088, 0.77123519, 0.75905245, 0.71099831])"
     },
     "execution_count": 11,
     "metadata": {},
     "output_type": "execute_result"
    }
   ],
   "source": [
    "cross_val_score(nn_clf_ours, X_train_ours, y_train_ours, cv=5)"
   ],
   "metadata": {
    "collapsed": false,
    "ExecuteTime": {
     "end_time": "2023-11-23T01:33:37.017105900Z",
     "start_time": "2023-11-23T01:31:33.436235200Z"
    }
   },
   "id": "98a2002b742f6afc"
  },
  {
   "cell_type": "markdown",
   "source": [
    "so now we have 2 models, mnist and ours with 0.97, 0.75 score"
   ],
   "metadata": {
    "collapsed": false
   },
   "id": "ec35f03455e68f2d"
  },
  {
   "cell_type": "markdown",
   "source": [
    "### find mislabel - test"
   ],
   "metadata": {
    "collapsed": false
   },
   "id": "26598935cc553ce2"
  },
  {
   "cell_type": "code",
   "execution_count": 17,
   "outputs": [
    {
     "name": "stdout",
     "output_type": "stream",
     "text": [
      "['1'] ['4']\n",
      "0.7680749546078631 0.9999999997708593\n"
     ]
    }
   ],
   "source": [
    "curr = np.reshape(X_train_ours[10].copy(), (1,-1))\n",
    "\n",
    "predict_mnist = nn_clf_mnist.predict(curr)\n",
    "predict_ours = nn_clf_ours.predict(curr)\n",
    "\n",
    "print(predict_mnist, predict_ours)\n",
    "\n",
    "score_mnist = nn_clf_mnist.predict_proba(curr)\n",
    "score_ours = nn_clf_ours.predict_proba(curr)\n",
    "\n",
    "print(score_mnist.max(), score_ours.max())"
   ],
   "metadata": {
    "collapsed": false,
    "ExecuteTime": {
     "end_time": "2023-11-23T02:51:40.728013100Z",
     "start_time": "2023-11-23T02:51:40.697117700Z"
    }
   },
   "id": "d4976c54e9eff90f"
  },
  {
   "cell_type": "code",
   "execution_count": 35,
   "outputs": [],
   "source": [
    "size = np.shape(X_train_ours)[0]\n",
    "\n",
    "list_mnist = []\n",
    "list_mnist_score = []\n",
    "list_ours = []\n",
    "list_ours_score = []\n",
    "\n",
    "for i in range(size):\n",
    "    curr = np.reshape(X_train_ours[i].copy(), (1,-1))\n",
    "    label = curr_data_num_trVal[\"label\"][i]\n",
    "\n",
    "    predict_mnist = nn_clf_mnist.predict(curr)\n",
    "    predict_ours = nn_clf_ours.predict(curr)\n",
    "\n",
    "    # score_mnist = nn_clf_mnist.predict_proba(curr)\n",
    "    # score_ours = nn_clf_ours.predict_proba(curr)\n",
    "    \n",
    "    if predict_mnist != label:\n",
    "        list_mnist = np.append(list_mnist, i)\n",
    "        list_mnist_score = np.append(list_mnist_score, nn_clf_mnist.predict_proba(curr))\n",
    "\n",
    "    if predict_ours != label:\n",
    "        list_ours = np.append(list_ours, i)\n",
    "        list_ours_score = np.append(list_ours_score, nn_clf_ours.predict_proba(curr))\n",
    "    "
   ],
   "metadata": {
    "collapsed": false,
    "ExecuteTime": {
     "end_time": "2023-11-23T04:51:02.582607300Z",
     "start_time": "2023-11-23T04:50:27.304263600Z"
    }
   },
   "id": "18ee6fd6e3148f58"
  },
  {
   "cell_type": "code",
   "execution_count": 36,
   "outputs": [
    {
     "name": "stdout",
     "output_type": "stream",
     "text": [
      "7 8571\n"
     ]
    }
   ],
   "source": [
    "print(len(list_ours),len(list_mnist))"
   ],
   "metadata": {
    "collapsed": false,
    "ExecuteTime": {
     "end_time": "2023-11-23T04:51:05.315109100Z",
     "start_time": "2023-11-23T04:51:05.284679100Z"
    }
   },
   "id": "7ab94a1e638711a7"
  },
  {
   "cell_type": "markdown",
   "source": [
    "so mnist is not that efficient finding mislabeled ones(which is worried about later work)\n",
    "let's check the wrong labeled ones"
   ],
   "metadata": {
    "collapsed": false
   },
   "id": "cc46549548225b80"
  },
  {
   "cell_type": "code",
   "execution_count": 38,
   "outputs": [],
   "source": [
    "import matplotlib.pyplot as plt\n",
    "\n",
    "def plot_digit(image_data, axis=False):\n",
    "    image = image_data.reshape(28, 28)\n",
    "    plt.imshow(image, cmap=\"binary\")\n",
    "\n",
    "    if not axis:\n",
    "        plt.axis(\"off\")"
   ],
   "metadata": {
    "collapsed": false,
    "ExecuteTime": {
     "end_time": "2023-11-23T04:53:41.353179900Z",
     "start_time": "2023-11-23T04:53:41.321724300Z"
    }
   },
   "id": "a8b2a60d04540707"
  },
  {
   "cell_type": "code",
   "execution_count": 42,
   "outputs": [
    {
     "data": {
      "text/plain": "<Figure size 640x480 with 1 Axes>",
      "image/png": "[encoded data removed]"
     },
     "metadata": {},
     "output_type": "display_data"
    },
    {
     "name": "stdout",
     "output_type": "stream",
     "text": [
      "index: 1448\n",
      "9\n"
     ]
    },
    {
     "data": {
      "text/plain": "<Figure size 640x480 with 1 Axes>",
      "image/png": "[encoded data removed]"
     },
     "metadata": {},
     "output_type": "display_data"
    },
    {
     "name": "stdout",
     "output_type": "stream",
     "text": [
      "index: 1509\n",
      "0\n"
     ]
    },
    {
     "data": {
      "text/plain": "<Figure size 640x480 with 1 Axes>",
      "image/png": "[encoded data removed]"
     },
     "metadata": {},
     "output_type": "display_data"
    },
    {
     "name": "stdout",
     "output_type": "stream",
     "text": [
      "index: 7263\n",
      "6\n"
     ]
    },
    {
     "data": {
      "text/plain": "<Figure size 640x480 with 1 Axes>",
      "image/png": "[encoded data removed]"
     },
     "metadata": {},
     "output_type": "display_data"
    },
    {
     "name": "stdout",
     "output_type": "stream",
     "text": [
      "index: 8662\n",
      "5\n"
     ]
    },
    {
     "data": {
      "text/plain": "<Figure size 640x480 with 1 Axes>",
      "image/png": "[encoded data removed]"
     },
     "metadata": {},
     "output_type": "display_data"
    },
    {
     "name": "stdout",
     "output_type": "stream",
     "text": [
      "index: 13095\n",
      "7\n"
     ]
    },
    {
     "data": {
      "text/plain": "<Figure size 640x480 with 1 Axes>",
      "image/png": "[encoded data removed]"
     },
     "metadata": {},
     "output_type": "display_data"
    },
    {
     "name": "stdout",
     "output_type": "stream",
     "text": [
      "index: 14573\n",
      "6\n"
     ]
    },
    {
     "data": {
      "text/plain": "<Figure size 640x480 with 1 Axes>",
      "image/png": "[encoded data removed]"
     },
     "metadata": {},
     "output_type": "display_data"
    },
    {
     "name": "stdout",
     "output_type": "stream",
     "text": [
      "index: 14736\n",
      "6\n"
     ]
    }
   ],
   "source": [
    "for i in list_ours.astype(\"int64\"):\n",
    "    plot_digit(curr_data_num_trVal[\"img\"][i])\n",
    "    plt.show()\n",
    "    print(f\"index: {i}\")\n",
    "    print(curr_data_num_trVal[\"label\"][i])"
   ],
   "metadata": {
    "collapsed": false,
    "ExecuteTime": {
     "end_time": "2023-11-23T04:59:31.223965200Z",
     "start_time": "2023-11-23T04:59:29.900345700Z"
    }
   },
   "id": "913ca0baecaaef97"
  },
  {
   "cell_type": "markdown",
   "source": [
    "so some are mislabeled(1 -> something else), and one has no img, and some are symbol '-'"
   ],
   "metadata": {
    "collapsed": false
   },
   "id": "b220ee0d58be8835"
  },
  {
   "cell_type": "code",
   "execution_count": 68,
   "outputs": [],
   "source": [
    "num_trVal_img_fixed = curr_data_num_trVal[\"img\"].copy()\n",
    "num_trVal_label_fixed = curr_data_num_trVal[\"label\"].copy()"
   ],
   "metadata": {
    "collapsed": false,
    "ExecuteTime": {
     "end_time": "2023-11-23T05:32:10.245603700Z",
     "start_time": "2023-11-23T05:32:10.082481700Z"
    }
   },
   "id": "6b4633aae4dbd279"
  },
  {
   "cell_type": "code",
   "execution_count": 69,
   "outputs": [
    {
     "name": "stdout",
     "output_type": "stream",
     "text": [
      "(14775,) (14775, 28, 28)\n"
     ]
    }
   ],
   "source": [
    "print(\n",
    "num_trVal_label_fixed.shape,\n",
    "num_trVal_img_fixed.shape\n",
    ")"
   ],
   "metadata": {
    "collapsed": false,
    "ExecuteTime": {
     "end_time": "2023-11-23T05:32:10.832335Z",
     "start_time": "2023-11-23T05:32:10.802128900Z"
    }
   },
   "id": "3d82e54e8af54cdf"
  },
  {
   "cell_type": "code",
   "execution_count": 70,
   "outputs": [],
   "source": [
    "# 1. fix label\n",
    "# 1509,7263,8662,13095 to '1'\n",
    "\n",
    "for i in [1509, 7263, 8662, 13095]:\n",
    "    num_trVal_label_fixed[i] = '1'"
   ],
   "metadata": {
    "collapsed": false,
    "ExecuteTime": {
     "end_time": "2023-11-23T05:32:11.669776600Z",
     "start_time": "2023-11-23T05:32:11.631131100Z"
    }
   },
   "id": "86bba79d103b6a8"
  },
  {
   "cell_type": "code",
   "execution_count": 71,
   "outputs": [
    {
     "name": "stdout",
     "output_type": "stream",
     "text": [
      "(14775,) (14775, 28, 28)\n"
     ]
    }
   ],
   "source": [
    "print(\n",
    "num_trVal_label_fixed.shape,\n",
    "num_trVal_img_fixed.shape\n",
    ")"
   ],
   "metadata": {
    "collapsed": false,
    "ExecuteTime": {
     "end_time": "2023-11-23T05:32:13.002527900Z",
     "start_time": "2023-11-23T05:32:12.964198300Z"
    }
   },
   "id": "5f1f966df2d407f0"
  },
  {
   "cell_type": "code",
   "execution_count": 72,
   "outputs": [],
   "source": [
    "# 2. delete label and img\n",
    "# 1448, 14573, 14736\n",
    "\n",
    "num_trVal_label_fixed = np.delete(num_trVal_label_fixed, (1448, 14573, 14736))\n",
    "num_trVal_img_fixed = np.delete(num_trVal_img_fixed, (1448, 14573, 14736),axis=0)"
   ],
   "metadata": {
    "collapsed": false,
    "ExecuteTime": {
     "end_time": "2023-11-23T05:32:15.069499100Z",
     "start_time": "2023-11-23T05:32:15.013789300Z"
    }
   },
   "id": "fb11b3ab8f3debe0"
  },
  {
   "cell_type": "code",
   "execution_count": 74,
   "outputs": [
    {
     "name": "stdout",
     "output_type": "stream",
     "text": [
      "(14772,) (14772, 28, 28)\n"
     ]
    }
   ],
   "source": [
    "print(\n",
    "num_trVal_label_fixed.shape,\n",
    "num_trVal_img_fixed.shape\n",
    ")"
   ],
   "metadata": {
    "collapsed": false,
    "ExecuteTime": {
     "end_time": "2023-11-23T05:32:21.590119Z",
     "start_time": "2023-11-23T05:32:21.568652900Z"
    }
   },
   "id": "699b990e07d57ca"
  },
  {
   "cell_type": "markdown",
   "source": [
    "so far we relabeled by comparing the labels, but we also have **predict_proba**\n",
    "we can assume if an img has a low **predict_proba**(even the prediction is correct), we may assume something is wrong about that img"
   ],
   "metadata": {
    "collapsed": false
   },
   "id": "b7be99b696bb76f8"
  },
  {
   "cell_type": "code",
   "execution_count": 75,
   "outputs": [
    {
     "name": "stdout",
     "output_type": "stream",
     "text": [
      "rebase ongoing\n",
      "done!\n",
      "border deletion ongoing\n",
      "done!\n",
      "thickening ongoing\n",
      "done!\n"
     ]
    },
    {
     "data": {
      "text/plain": "Pipeline(steps=[('robustscaler', RobustScaler()),\n                ('mlpclassifier',\n                 MLPClassifier(max_iter=300, random_state=42, solver='lbfgs'))])",
      "text/html": "<style>#sk-container-id-4 {color: black;}#sk-container-id-4 pre{padding: 0;}#sk-container-id-4 div.sk-toggleable {background-color: white;}#sk-container-id-4 label.sk-toggleable__label {cursor: pointer;display: block;width: 100%;margin-bottom: 0;padding: 0.3em;box-sizing: border-box;text-align: center;}#sk-container-id-4 label.sk-toggleable__label-arrow:before {content: \"▸\";float: left;margin-right: 0.25em;color: #696969;}#sk-container-id-4 label.sk-toggleable__label-arrow:hover:before {color: black;}#sk-container-id-4 div.sk-estimator:hover label.sk-toggleable__label-arrow:before {color: black;}#sk-container-id-4 div.sk-toggleable__content {max-height: 0;max-width: 0;overflow: hidden;text-align: left;background-color: #f0f8ff;}#sk-container-id-4 div.sk-toggleable__content pre {margin: 0.2em;color: black;border-radius: 0.25em;background-color: #f0f8ff;}#sk-container-id-4 input.sk-toggleable__control:checked~div.sk-toggleable__content {max-height: 200px;max-width: 100%;overflow: auto;}#sk-container-id-4 input.sk-toggleable__control:checked~label.sk-toggleable__label-arrow:before {content: \"▾\";}#sk-container-id-4 div.sk-estimator input.sk-toggleable__control:checked~label.sk-toggleable__label {background-color: #d4ebff;}#sk-container-id-4 div.sk-label input.sk-toggleable__control:checked~label.sk-toggleable__label {background-color: #d4ebff;}#sk-container-id-4 input.sk-hidden--visually {border: 0;clip: rect(1px 1px 1px 1px);clip: rect(1px, 1px, 1px, 1px);height: 1px;margin: -1px;overflow: hidden;padding: 0;position: absolute;width: 1px;}#sk-container-id-4 div.sk-estimator {font-family: monospace;background-color: #f0f8ff;border: 1px dotted black;border-radius: 0.25em;box-sizing: border-box;margin-bottom: 0.5em;}#sk-container-id-4 div.sk-estimator:hover {background-color: #d4ebff;}#sk-container-id-4 div.sk-parallel-item::after {content: \"\";width: 100%;border-bottom: 1px solid gray;flex-grow: 1;}#sk-container-id-4 div.sk-label:hover label.sk-toggleable__label {background-color: #d4ebff;}#sk-container-id-4 div.sk-serial::before {content: \"\";position: absolute;border-left: 1px solid gray;box-sizing: border-box;top: 0;bottom: 0;left: 50%;z-index: 0;}#sk-container-id-4 div.sk-serial {display: flex;flex-direction: column;align-items: center;background-color: white;padding-right: 0.2em;padding-left: 0.2em;position: relative;}#sk-container-id-4 div.sk-item {position: relative;z-index: 1;}#sk-container-id-4 div.sk-parallel {display: flex;align-items: stretch;justify-content: center;background-color: white;position: relative;}#sk-container-id-4 div.sk-item::before, #sk-container-id-4 div.sk-parallel-item::before {content: \"\";position: absolute;border-left: 1px solid gray;box-sizing: border-box;top: 0;bottom: 0;left: 50%;z-index: -1;}#sk-container-id-4 div.sk-parallel-item {display: flex;flex-direction: column;z-index: 1;position: relative;background-color: white;}#sk-container-id-4 div.sk-parallel-item:first-child::after {align-self: flex-end;width: 50%;}#sk-container-id-4 div.sk-parallel-item:last-child::after {align-self: flex-start;width: 50%;}#sk-container-id-4 div.sk-parallel-item:only-child::after {width: 0;}#sk-container-id-4 div.sk-dashed-wrapped {border: 1px dashed gray;margin: 0 0.4em 0.5em 0.4em;box-sizing: border-box;padding-bottom: 0.4em;background-color: white;}#sk-container-id-4 div.sk-label label {font-family: monospace;font-weight: bold;display: inline-block;line-height: 1.2em;}#sk-container-id-4 div.sk-label-container {text-align: center;}#sk-container-id-4 div.sk-container {/* jupyter's `normalize.less` sets `[hidden] { display: none; }` but bootstrap.min.css set `[hidden] { display: none !important; }` so we also need the `!important` here to be able to override the default hidden behavior on the sphinx rendered scikit-learn.org. See: https://github.com/scikit-learn/scikit-learn/issues/21755 */display: inline-block !important;position: relative;}#sk-container-id-4 div.sk-text-repr-fallback {display: none;}</style><div id=\"sk-container-id-4\" class=\"sk-top-container\"><div class=\"sk-text-repr-fallback\"><pre>Pipeline(steps=[(&#x27;robustscaler&#x27;, RobustScaler()),\n                (&#x27;mlpclassifier&#x27;,\n                 MLPClassifier(max_iter=300, random_state=42, solver=&#x27;lbfgs&#x27;))])</pre><b>In a Jupyter environment, please rerun this cell to show the HTML representation or trust the notebook. <br />On GitHub, the HTML representation is unable to render, please try loading this page with nbviewer.org.</b></div><div class=\"sk-container\" hidden><div class=\"sk-item sk-dashed-wrapped\"><div class=\"sk-label-container\"><div class=\"sk-label sk-toggleable\"><input class=\"sk-toggleable__control sk-hidden--visually\" id=\"sk-estimator-id-10\" type=\"checkbox\" ><label for=\"sk-estimator-id-10\" class=\"sk-toggleable__label sk-toggleable__label-arrow\">Pipeline</label><div class=\"sk-toggleable__content\"><pre>Pipeline(steps=[(&#x27;robustscaler&#x27;, RobustScaler()),\n                (&#x27;mlpclassifier&#x27;,\n                 MLPClassifier(max_iter=300, random_state=42, solver=&#x27;lbfgs&#x27;))])</pre></div></div></div><div class=\"sk-serial\"><div class=\"sk-item\"><div class=\"sk-estimator sk-toggleable\"><input class=\"sk-toggleable__control sk-hidden--visually\" id=\"sk-estimator-id-11\" type=\"checkbox\" ><label for=\"sk-estimator-id-11\" class=\"sk-toggleable__label sk-toggleable__label-arrow\">RobustScaler</label><div class=\"sk-toggleable__content\"><pre>RobustScaler()</pre></div></div></div><div class=\"sk-item\"><div class=\"sk-estimator sk-toggleable\"><input class=\"sk-toggleable__control sk-hidden--visually\" id=\"sk-estimator-id-12\" type=\"checkbox\" ><label for=\"sk-estimator-id-12\" class=\"sk-toggleable__label sk-toggleable__label-arrow\">MLPClassifier</label><div class=\"sk-toggleable__content\"><pre>MLPClassifier(max_iter=300, random_state=42, solver=&#x27;lbfgs&#x27;)</pre></div></div></div></div></div></div></div>"
     },
     "execution_count": 75,
     "metadata": {},
     "output_type": "execute_result"
    }
   ],
   "source": [
    "nn_clf_ours.fit(preprocessing(num_trVal_img_fixed), num_trVal_label_fixed)"
   ],
   "metadata": {
    "collapsed": false,
    "ExecuteTime": {
     "end_time": "2023-11-23T05:32:51.430936300Z",
     "start_time": "2023-11-23T05:32:33.273894200Z"
    }
   },
   "id": "3f6c0801e2ee6867"
  },
  {
   "cell_type": "code",
   "execution_count": 112,
   "outputs": [],
   "source": [
    "size = np.shape(num_trVal_img_fixed)[0]\n",
    "\n",
    "list_ours = []\n",
    "list_ours_score = []\n",
    "\n",
    "for i in range(size):\n",
    "    curr = np.reshape(num_trVal_img_fixed[i].copy(), (1, -1))\n",
    "    label = num_trVal_label_fixed[i]\n",
    "\n",
    "    prediction = int (nn_clf_ours.predict(curr))\n",
    "    score_ours = nn_clf_ours.predict_proba(curr)[0,prediction]\n",
    "    threshold = 0.985\n",
    "\n",
    "    if score_ours <= threshold:\n",
    "        list_ours = np.append(list_ours, i)\n",
    "        list_ours_score = np.append(list_ours_score, score_ours)\n"
   ],
   "metadata": {
    "collapsed": false,
    "ExecuteTime": {
     "end_time": "2023-11-23T05:59:22.339752Z",
     "start_time": "2023-11-23T05:59:16.529099500Z"
    }
   },
   "id": "771d347e5a1adf37"
  },
  {
   "cell_type": "code",
   "execution_count": 113,
   "outputs": [
    {
     "data": {
      "text/plain": "40"
     },
     "execution_count": 113,
     "metadata": {},
     "output_type": "execute_result"
    }
   ],
   "source": [
    "len(list_ours)"
   ],
   "metadata": {
    "collapsed": false,
    "ExecuteTime": {
     "end_time": "2023-11-23T05:59:23.512103800Z",
     "start_time": "2023-11-23T05:59:23.484095800Z"
    }
   },
   "id": "19d881fce02bc56"
  },
  {
   "cell_type": "code",
   "execution_count": 114,
   "outputs": [
    {
     "data": {
      "text/plain": "<Figure size 640x480 with 1 Axes>",
      "image/png": "[encoded data removed]"
     },
     "metadata": {},
     "output_type": "display_data"
    },
    {
     "name": "stdout",
     "output_type": "stream",
     "text": [
      "index: 141\n",
      "1\n"
     ]
    },
    {
     "data": {
      "text/plain": "<Figure size 640x480 with 1 Axes>",
      "image/png": "[encoded data removed]"
     },
     "metadata": {},
     "output_type": "display_data"
    },
    {
     "name": "stdout",
     "output_type": "stream",
     "text": [
      "index: 175\n",
      "1\n"
     ]
    },
    {
     "data": {
      "text/plain": "<Figure size 640x480 with 1 Axes>",
      "image/png": "[encoded data removed]"
     },
     "metadata": {},
     "output_type": "display_data"
    },
    {
     "name": "stdout",
     "output_type": "stream",
     "text": [
      "index: 1105\n",
      "9\n"
     ]
    },
    {
     "data": {
      "text/plain": "<Figure size 640x480 with 1 Axes>",
      "image/png": "[encoded data removed]"
     },
     "metadata": {},
     "output_type": "display_data"
    },
    {
     "name": "stdout",
     "output_type": "stream",
     "text": [
      "index: 1142\n",
      "2\n"
     ]
    },
    {
     "data": {
      "text/plain": "<Figure size 640x480 with 1 Axes>",
      "image/png": "[encoded data removed]"
     },
     "metadata": {},
     "output_type": "display_data"
    },
    {
     "name": "stdout",
     "output_type": "stream",
     "text": [
      "index: 1190\n",
      "1\n"
     ]
    },
    {
     "data": {
      "text/plain": "<Figure size 640x480 with 1 Axes>",
      "image/png": "[encoded data removed]"
     },
     "metadata": {},
     "output_type": "display_data"
    },
    {
     "name": "stdout",
     "output_type": "stream",
     "text": [
      "index: 2683\n",
      "1\n"
     ]
    },
    {
     "data": {
      "text/plain": "<Figure size 640x480 with 1 Axes>",
      "image/png": "[encoded data removed]"
     },
     "metadata": {},
     "output_type": "display_data"
    },
    {
     "name": "stdout",
     "output_type": "stream",
     "text": [
      "index: 2766\n",
      "2\n"
     ]
    },
    {
     "data": {
      "text/plain": "<Figure size 640x480 with 1 Axes>",
      "image/png": "[encoded data removed]"
     },
     "metadata": {},
     "output_type": "display_data"
    },
    {
     "name": "stdout",
     "output_type": "stream",
     "text": [
      "index: 3203\n",
      "1\n"
     ]
    },
    {
     "data": {
      "text/plain": "<Figure size 640x480 with 1 Axes>",
      "image/png": "[encoded data removed]"
     },
     "metadata": {},
     "output_type": "display_data"
    },
    {
     "name": "stdout",
     "output_type": "stream",
     "text": [
      "index: 3313\n",
      "0\n"
     ]
    },
    {
     "data": {
      "text/plain": "<Figure size 640x480 with 1 Axes>",
      "image/png": "[encoded data removed]"
     },
     "metadata": {},
     "output_type": "display_data"
    },
    {
     "name": "stdout",
     "output_type": "stream",
     "text": [
      "index: 3413\n",
      "1\n"
     ]
    },
    {
     "data": {
      "text/plain": "<Figure size 640x480 with 1 Axes>",
      "image/png": "[encoded data removed]"
     },
     "metadata": {},
     "output_type": "display_data"
    },
    {
     "name": "stdout",
     "output_type": "stream",
     "text": [
      "index: 4076\n",
      "1\n"
     ]
    },
    {
     "data": {
      "text/plain": "<Figure size 640x480 with 1 Axes>",
      "image/png": "[encoded data removed]"
     },
     "metadata": {},
     "output_type": "display_data"
    },
    {
     "name": "stdout",
     "output_type": "stream",
     "text": [
      "index: 4210\n",
      "0\n"
     ]
    },
    {
     "data": {
      "text/plain": "<Figure size 640x480 with 1 Axes>",
      "image/png": "[encoded data removed]"
     },
     "metadata": {},
     "output_type": "display_data"
    },
    {
     "name": "stdout",
     "output_type": "stream",
     "text": [
      "index: 4237\n",
      "1\n"
     ]
    },
    {
     "data": {
      "text/plain": "<Figure size 640x480 with 1 Axes>",
      "image/png": "[encoded data removed]"
     },
     "metadata": {},
     "output_type": "display_data"
    },
    {
     "name": "stdout",
     "output_type": "stream",
     "text": [
      "index: 4953\n",
      "8\n"
     ]
    },
    {
     "data": {
      "text/plain": "<Figure size 640x480 with 1 Axes>",
      "image/png": "[encoded data removed]"
     },
     "metadata": {},
     "output_type": "display_data"
    },
    {
     "name": "stdout",
     "output_type": "stream",
     "text": [
      "index: 5058\n",
      "4\n"
     ]
    },
    {
     "data": {
      "text/plain": "<Figure size 640x480 with 1 Axes>",
      "image/png": "[encoded data removed]"
     },
     "metadata": {},
     "output_type": "display_data"
    },
    {
     "name": "stdout",
     "output_type": "stream",
     "text": [
      "index: 5110\n",
      "0\n"
     ]
    },
    {
     "data": {
      "text/plain": "<Figure size 640x480 with 1 Axes>",
      "image/png": "[encoded data removed]"
     },
     "metadata": {},
     "output_type": "display_data"
    },
    {
     "name": "stdout",
     "output_type": "stream",
     "text": [
      "index: 5776\n",
      "9\n"
     ]
    },
    {
     "data": {
      "text/plain": "<Figure size 640x480 with 1 Axes>",
      "image/png": "[encoded data removed]"
     },
     "metadata": {},
     "output_type": "display_data"
    },
    {
     "name": "stdout",
     "output_type": "stream",
     "text": [
      "index: 6454\n",
      "4\n"
     ]
    },
    {
     "data": {
      "text/plain": "<Figure size 640x480 with 1 Axes>",
      "image/png": "[encoded data removed]"
     },
     "metadata": {},
     "output_type": "display_data"
    },
    {
     "name": "stdout",
     "output_type": "stream",
     "text": [
      "index: 6960\n",
      "5\n"
     ]
    },
    {
     "data": {
      "text/plain": "<Figure size 640x480 with 1 Axes>",
      "image/png": "[encoded data removed]"
     },
     "metadata": {},
     "output_type": "display_data"
    },
    {
     "name": "stdout",
     "output_type": "stream",
     "text": [
      "index: 7943\n",
      "0\n"
     ]
    },
    {
     "data": {
      "text/plain": "<Figure size 640x480 with 1 Axes>",
      "image/png": "[encoded data removed]"
     },
     "metadata": {},
     "output_type": "display_data"
    },
    {
     "name": "stdout",
     "output_type": "stream",
     "text": [
      "index: 8097\n",
      "3\n"
     ]
    },
    {
     "data": {
      "text/plain": "<Figure size 640x480 with 1 Axes>",
      "image/png": "[encoded data removed]"
     },
     "metadata": {},
     "output_type": "display_data"
    },
    {
     "name": "stdout",
     "output_type": "stream",
     "text": [
      "index: 8308\n",
      "9\n"
     ]
    },
    {
     "data": {
      "text/plain": "<Figure size 640x480 with 1 Axes>",
      "image/png": "[encoded data removed]"
     },
     "metadata": {},
     "output_type": "display_data"
    },
    {
     "name": "stdout",
     "output_type": "stream",
     "text": [
      "index: 8410\n",
      "1\n"
     ]
    },
    {
     "data": {
      "text/plain": "<Figure size 640x480 with 1 Axes>",
      "image/png": "[encoded data removed]"
     },
     "metadata": {},
     "output_type": "display_data"
    },
    {
     "name": "stdout",
     "output_type": "stream",
     "text": [
      "index: 9100\n",
      "1\n"
     ]
    },
    {
     "data": {
      "text/plain": "<Figure size 640x480 with 1 Axes>",
      "image/png": "[encoded data removed]"
     },
     "metadata": {},
     "output_type": "display_data"
    },
    {
     "name": "stdout",
     "output_type": "stream",
     "text": [
      "index: 9301\n",
      "1\n"
     ]
    },
    {
     "data": {
      "text/plain": "<Figure size 640x480 with 1 Axes>",
      "image/png": "[encoded data removed]"
     },
     "metadata": {},
     "output_type": "display_data"
    },
    {
     "name": "stdout",
     "output_type": "stream",
     "text": [
      "index: 10668\n",
      "0\n"
     ]
    },
    {
     "data": {
      "text/plain": "<Figure size 640x480 with 1 Axes>",
      "image/png": "[encoded data removed]"
     },
     "metadata": {},
     "output_type": "display_data"
    },
    {
     "name": "stdout",
     "output_type": "stream",
     "text": [
      "index: 11256\n",
      "2\n"
     ]
    },
    {
     "data": {
      "text/plain": "<Figure size 640x480 with 1 Axes>",
      "image/png": "[encoded data removed]"
     },
     "metadata": {},
     "output_type": "display_data"
    },
    {
     "name": "stdout",
     "output_type": "stream",
     "text": [
      "index: 11920\n",
      "1\n"
     ]
    },
    {
     "data": {
      "text/plain": "<Figure size 640x480 with 1 Axes>",
      "image/png": "[encoded data removed]"
     },
     "metadata": {},
     "output_type": "display_data"
    },
    {
     "name": "stdout",
     "output_type": "stream",
     "text": [
      "index: 12129\n",
      "2\n"
     ]
    },
    {
     "data": {
      "text/plain": "<Figure size 640x480 with 1 Axes>",
      "image/png": "[encoded data removed]"
     },
     "metadata": {},
     "output_type": "display_data"
    },
    {
     "name": "stdout",
     "output_type": "stream",
     "text": [
      "index: 12749\n",
      "9\n"
     ]
    },
    {
     "data": {
      "text/plain": "<Figure size 640x480 with 1 Axes>",
      "image/png": "[encoded data removed]"
     },
     "metadata": {},
     "output_type": "display_data"
    },
    {
     "name": "stdout",
     "output_type": "stream",
     "text": [
      "index: 12939\n",
      "3\n"
     ]
    },
    {
     "data": {
      "text/plain": "<Figure size 640x480 with 1 Axes>",
      "image/png": "[encoded data removed]"
     },
     "metadata": {},
     "output_type": "display_data"
    },
    {
     "name": "stdout",
     "output_type": "stream",
     "text": [
      "index: 13341\n",
      "0\n"
     ]
    },
    {
     "data": {
      "text/plain": "<Figure size 640x480 with 1 Axes>",
      "image/png": "[encoded data removed]"
     },
     "metadata": {},
     "output_type": "display_data"
    },
    {
     "name": "stdout",
     "output_type": "stream",
     "text": [
      "index: 13679\n",
      "1\n"
     ]
    },
    {
     "data": {
      "text/plain": "<Figure size 640x480 with 1 Axes>",
      "image/png": "[encoded data removed]"
     },
     "metadata": {},
     "output_type": "display_data"
    },
    {
     "name": "stdout",
     "output_type": "stream",
     "text": [
      "index: 13964\n",
      "0\n"
     ]
    },
    {
     "data": {
      "text/plain": "<Figure size 640x480 with 1 Axes>",
      "image/png": "[encoded data removed]"
     },
     "metadata": {},
     "output_type": "display_data"
    },
    {
     "name": "stdout",
     "output_type": "stream",
     "text": [
      "index: 14302\n",
      "1\n"
     ]
    },
    {
     "data": {
      "text/plain": "<Figure size 640x480 with 1 Axes>",
      "image/png": "[encoded data removed]"
     },
     "metadata": {},
     "output_type": "display_data"
    },
    {
     "name": "stdout",
     "output_type": "stream",
     "text": [
      "index: 14573\n",
      "3\n"
     ]
    },
    {
     "data": {
      "text/plain": "<Figure size 640x480 with 1 Axes>",
      "image/png": "[encoded data removed]"
     },
     "metadata": {},
     "output_type": "display_data"
    },
    {
     "name": "stdout",
     "output_type": "stream",
     "text": [
      "index: 14668\n",
      "4\n"
     ]
    },
    {
     "data": {
      "text/plain": "<Figure size 640x480 with 1 Axes>",
      "image/png": "[encoded data removed]"
     },
     "metadata": {},
     "output_type": "display_data"
    },
    {
     "name": "stdout",
     "output_type": "stream",
     "text": [
      "index: 14676\n",
      "8\n"
     ]
    },
    {
     "data": {
      "text/plain": "<Figure size 640x480 with 1 Axes>",
      "image/png": "[encoded data removed]"
     },
     "metadata": {},
     "output_type": "display_data"
    },
    {
     "name": "stdout",
     "output_type": "stream",
     "text": [
      "index: 14686\n",
      "8\n"
     ]
    },
    {
     "data": {
      "text/plain": "<Figure size 640x480 with 1 Axes>",
      "image/png": "[encoded data removed]"
     },
     "metadata": {},
     "output_type": "display_data"
    },
    {
     "name": "stdout",
     "output_type": "stream",
     "text": [
      "index: 14757\n",
      "8\n"
     ]
    }
   ],
   "source": [
    "for i in list_ours.astype(\"int64\"):\n",
    "    plot_digit(num_trVal_img_fixed[i])\n",
    "    plt.show()\n",
    "    print(f\"index: {i}\")\n",
    "    print(num_trVal_label_fixed[i])"
   ],
   "metadata": {
    "collapsed": false,
    "ExecuteTime": {
     "end_time": "2023-11-23T05:59:28.631040300Z",
     "start_time": "2023-11-23T05:59:26.007657900Z"
    }
   },
   "id": "998c94b3570d4c64"
  },
  {
   "cell_type": "code",
   "execution_count": 94,
   "outputs": [
    {
     "name": "stdout",
     "output_type": "stream",
     "text": [
      "7 0.9999880505700626\n",
      "[[2.26631223e-16 1.08637963e-08 7.23354860e-06 6.81518553e-24\n",
      "  4.65361644e-06 4.42343917e-12 5.10836453e-08 9.99988051e-01\n",
      "  1.58358782e-14 3.13012826e-10]]\n"
     ]
    }
   ],
   "source": [
    "sample = np.reshape(num_trVal_img_fixed[10].copy(), (1, -1))\n",
    "\n",
    "prediction = int (nn_clf_ours.predict(curr))\n",
    "score = nn_clf_ours.predict_proba(curr)\n",
    "score_ours = nn_clf_ours.predict_proba(curr)[0,prediction]\n",
    "\n",
    "print(prediction, score_ours)\n",
    "print(score)"
   ],
   "metadata": {
    "collapsed": false,
    "ExecuteTime": {
     "end_time": "2023-11-23T05:44:22.489243500Z",
     "start_time": "2023-11-23T05:44:22.410617600Z"
    }
   },
   "id": "3c4718d78ede0ff9"
  },
  {
   "cell_type": "code",
   "execution_count": 65,
   "outputs": [],
   "source": [
    "array = np.zeros((3,3,3),dtype=\"int64\")"
   ],
   "metadata": {
    "collapsed": false,
    "ExecuteTime": {
     "end_time": "2023-11-23T05:26:45.866799Z",
     "start_time": "2023-11-23T05:26:45.805193700Z"
    }
   },
   "id": "ebd702cb39f440c4"
  },
  {
   "cell_type": "code",
   "execution_count": 67,
   "outputs": [
    {
     "data": {
      "text/plain": "array([[[0, 0, 0],\n        [0, 0, 0],\n        [0, 0, 0]],\n\n       [[0, 0, 0],\n        [0, 0, 0],\n        [0, 0, 0]]], dtype=int64)"
     },
     "execution_count": 67,
     "metadata": {},
     "output_type": "execute_result"
    }
   ],
   "source": [
    "np.delete(array,1,axis=0)"
   ],
   "metadata": {
    "collapsed": false,
    "ExecuteTime": {
     "end_time": "2023-11-23T05:31:46.653618400Z",
     "start_time": "2023-11-23T05:31:46.555340600Z"
    }
   },
   "id": "6799dde20eb394f2"
  },
  {
   "cell_type": "code",
   "execution_count": 66,
   "outputs": [
    {
     "name": "stdout",
     "output_type": "stream",
     "text": [
      "[[[0 0 0]\n",
      "  [0 0 0]\n",
      "  [0 0 0]]\n",
      "\n",
      " [[0 0 0]\n",
      "  [0 0 0]\n",
      "  [0 0 0]]\n",
      "\n",
      " [[0 0 0]\n",
      "  [0 0 0]\n",
      "  [0 0 0]]]\n"
     ]
    }
   ],
   "source": [
    "print(array)"
   ],
   "metadata": {
    "collapsed": false,
    "ExecuteTime": {
     "end_time": "2023-11-23T05:26:52.853414200Z",
     "start_time": "2023-11-23T05:26:52.773261500Z"
    }
   },
   "id": "86f6f06ddc449efa"
  },
  {
   "cell_type": "code",
   "execution_count": null,
   "outputs": [],
   "source": [],
   "metadata": {
    "collapsed": false
   },
   "id": "5ea93f93675d22c5"
  }
 ],
 "metadata": {
  "kernelspec": {
   "display_name": "Python 3",
   "language": "python",
   "name": "python3"
  },
  "language_info": {
   "codemirror_mode": {
    "name": "ipython",
    "version": 2
   },
   "file_extension": ".py",
   "mimetype": "text/x-python",
   "name": "python",
   "nbconvert_exporter": "python",
   "pygments_lexer": "ipython2",
   "version": "2.7.6"
  }
 },
 "nbformat": 4,
 "nbformat_minor": 5
}
