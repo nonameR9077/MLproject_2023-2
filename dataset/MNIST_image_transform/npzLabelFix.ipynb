{
 "cells": [
  {
   "cell_type": "code",
   "execution_count": 1,
   "id": "initial_id",
   "metadata": {
    "collapsed": true,
    "ExecuteTime": {
     "end_time": "2023-11-20T05:38:23.526706200Z",
     "start_time": "2023-11-20T05:38:21.548330200Z"
    }
   },
   "outputs": [
    {
     "name": "stdout",
     "output_type": "stream",
     "text": [
      "sys.version_info(major=3, minor=11, micro=4, releaselevel='final', serial=0)\n",
      "Scikit-Learn version:  1.3.0\n"
     ]
    }
   ],
   "source": [
    "import sys\n",
    "print(sys.version_info)\n",
    "assert sys.version_info >= (3, 7)\n",
    "\n",
    "from packaging import version\n",
    "import sklearn\n",
    "print (\"Scikit-Learn version: \", sklearn.__version__)\n",
    "assert version.parse(sklearn.__version__) >= version.parse(\"1.0.1\")\n",
    "\n",
    "# Common imports\n",
    "import numpy as np\n",
    "import os\n",
    "\n",
    "# to make this notebook's output stable across runs\n",
    "np.random.seed(42)"
   ]
  },
  {
   "cell_type": "markdown",
   "source": [
    "here we're trying to get the wrong labeled data (like \"=\" is labeled to \"+\")\n",
    "BUT it is impossible to check all 17000 img and check them(we can, but... really?)\n",
    "or we can use the model to identify them"
   ],
   "metadata": {
    "collapsed": false
   },
   "id": "4e7912ea5b7dbcc0"
  },
  {
   "cell_type": "markdown",
   "source": [
    "how? by using well-trained model! we have Mnist!\n",
    "so the plan is;\n",
    "1. train the mnist that has a good score(like 0.97 or 98)\n",
    "2. for each img check the score using our mnist model. If the score is quite low(to a certain threshold, we may assume that is it mislabeled\n",
    "3. check the img and label, and fix\n",
    "\n",
    "this may minimize our man-work"
   ],
   "metadata": {
    "collapsed": false
   },
   "id": "5c05ebee476fb7d3"
  },
  {
   "cell_type": "code",
   "execution_count": 2,
   "outputs": [
    {
     "name": "stdout",
     "output_type": "stream",
     "text": [
      "npz\\asdf\n"
     ]
    }
   ],
   "source": [
    "from pathlib import Path\n",
    "\n",
    "path = Path() / \"npz\" / \"asdf\"\n",
    "print(path)"
   ],
   "metadata": {
    "collapsed": false,
    "ExecuteTime": {
     "end_time": "2023-11-20T05:53:28.824826500Z",
     "start_time": "2023-11-20T05:53:28.807827300Z"
    }
   },
   "id": "2bdf10d3a163da9e"
  },
  {
   "cell_type": "markdown",
   "source": [
    "## dataset preparation"
   ],
   "metadata": {
    "collapsed": false
   },
   "id": "b84b7c6e19293448"
  },
  {
   "cell_type": "code",
   "execution_count": 4,
   "outputs": [],
   "source": [
    "from sklearn.datasets import fetch_openml\n",
    "\n",
    "openml = fetch_openml('mnist_784', as_frame=False, parser=\"auto\")\n",
    "mnist = openml\n",
    "\n",
    "# get the latest datasets - rebased\n",
    "curr_data_num_trVal = np.load(path / \"digit_data_TrVal_rebased.npz\")\n",
    "curr_data_sym_trVal = np.load(path / \"op_data_TrVal_rebased.npz\")\n",
    "\n",
    "curr_data_num_test = np.load(path / \"digit_data_10_Test_rebased.npz\")\n",
    "curr_data_sym_test = np.load(path / \"op_data_10_Test_rebased.npz\")"
   ],
   "metadata": {
    "collapsed": false,
    "ExecuteTime": {
     "end_time": "2023-11-20T05:59:27.868617300Z",
     "start_time": "2023-11-20T05:59:23.751287900Z"
    }
   },
   "id": "8eb31b3b6ffa2fc6"
  },
  {
   "cell_type": "markdown",
   "source": [
    "## prepare model"
   ],
   "metadata": {
    "collapsed": false
   },
   "id": "86609c35b7ceeb8d"
  },
  {
   "cell_type": "markdown",
   "source": [
    "currently, our strongest model so far is the assemble model, with 0.97 score"
   ],
   "metadata": {
    "collapsed": false
   },
   "id": "8bf4746e5413c68"
  },
  {
   "cell_type": "code",
   "execution_count": null,
   "outputs": [],
   "source": [],
   "metadata": {
    "collapsed": false
   },
   "id": "f7ea242ff6508872"
  }
 ],
 "metadata": {
  "kernelspec": {
   "display_name": "Python 3",
   "language": "python",
   "name": "python3"
  },
  "language_info": {
   "codemirror_mode": {
    "name": "ipython",
    "version": 2
   },
   "file_extension": ".py",
   "mimetype": "text/x-python",
   "name": "python",
   "nbconvert_exporter": "python",
   "pygments_lexer": "ipython2",
   "version": "2.7.6"
  }
 },
 "nbformat": 4,
 "nbformat_minor": 5
}
