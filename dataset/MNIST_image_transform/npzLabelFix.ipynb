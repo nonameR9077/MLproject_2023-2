{
 "cells": [
  {
   "cell_type": "code",
   "execution_count": 73,
   "id": "initial_id",
   "metadata": {
    "collapsed": true,
    "ExecuteTime": {
     "end_time": "2023-11-24T12:13:14.312823100Z",
     "start_time": "2023-11-24T12:13:14.261230500Z"
    }
   },
   "outputs": [
    {
     "name": "stdout",
     "output_type": "stream",
     "text": [
      "sys.version_info(major=3, minor=11, micro=4, releaselevel='final', serial=0)\n",
      "Scikit-Learn version:  1.3.0\n"
     ]
    }
   ],
   "source": [
    "import sys\n",
    "print(sys.version_info)\n",
    "assert sys.version_info >= (3, 7)\n",
    "\n",
    "from packaging import version\n",
    "import sklearn\n",
    "print (\"Scikit-Learn version: \", sklearn.__version__)\n",
    "assert version.parse(sklearn.__version__) >= version.parse(\"1.0.1\")\n",
    "\n",
    "# Common imports\n",
    "import numpy as np\n",
    "import os\n",
    "\n",
    "# to make this notebook's output stable across runs\n",
    "np.random.seed(42)"
   ]
  },
  {
   "cell_type": "markdown",
   "source": [
    "here we're trying to get the wrong labeled data (like \"=\" is labeled to \"+\")\n",
    "BUT it is impossible to check all 17000 img and check them(we can, but... really?)\n",
    "or we can use the model to identify them"
   ],
   "metadata": {
    "collapsed": false
   },
   "id": "4e7912ea5b7dbcc0"
  },
  {
   "cell_type": "markdown",
   "source": [
    "how? by using well-trained model! we have Mnist!\n",
    "so the plan is;\n",
    "1. train the mnist that has a good score(like 0.97 or 98)\n",
    "2. for each img check the score using our mnist model. If the score is quite low(to a certain threshold, we may assume that is it mislabeled\n",
    "3. check the img and label, and fix\n",
    "\n",
    "this may minimize our man-work"
   ],
   "metadata": {
    "collapsed": false
   },
   "id": "5c05ebee476fb7d3"
  },
  {
   "cell_type": "code",
   "execution_count": 74,
   "outputs": [
    {
     "name": "stdout",
     "output_type": "stream",
     "text": [
      "npz\\asdf\n"
     ]
    }
   ],
   "source": [
    "from pathlib import Path\n",
    "\n",
    "path = Path() / \"npz\" / \"asdf\"\n",
    "print(path)"
   ],
   "metadata": {
    "collapsed": false,
    "ExecuteTime": {
     "end_time": "2023-11-24T12:13:17.866803800Z",
     "start_time": "2023-11-24T12:13:17.835757100Z"
    }
   },
   "id": "2bdf10d3a163da9e"
  },
  {
   "cell_type": "markdown",
   "source": [
    "## dataset preparation"
   ],
   "metadata": {
    "collapsed": false
   },
   "id": "b84b7c6e19293448"
  },
  {
   "cell_type": "code",
   "execution_count": null,
   "outputs": [],
   "source": [
    "from sklearn.datasets import fetch_openml\n",
    "\n",
    "openml = fetch_openml('mnist_784', as_frame=False, parser=\"auto\")\n",
    "mnist = openml\n",
    "\n",
    "# get the latest datasets\n",
    "curr_data_num_trVal = np.load(path / \"digit_data_TrVal_corrected.npz\")\n",
    "curr_data_sym_trVal = np.load(path / \"op_data_TrVal_corrected.npz\")\n",
    "\n",
    "curr_data_num_test = np.load(path / \"digit_data_10_Test_corrected.npz\")\n",
    "curr_data_sym_test = np.load(path / \"op_data_10_Test_corrected.npz\")"
   ],
   "metadata": {
    "collapsed": false
   },
   "id": "8eb31b3b6ffa2fc6"
  },
  {
   "cell_type": "markdown",
   "source": [
    "## prepare models"
   ],
   "metadata": {
    "collapsed": false
   },
   "id": "86609c35b7ceeb8d"
  },
  {
   "cell_type": "markdown",
   "source": [
    "currently, our strongest model so far is the assemble model, with 0.97 score"
   ],
   "metadata": {
    "collapsed": false
   },
   "id": "8bf4746e5413c68"
  },
  {
   "cell_type": "markdown",
   "source": [
    "### mnist"
   ],
   "metadata": {
    "collapsed": false
   },
   "id": "1c4937308adb7dd5"
  },
  {
   "cell_type": "code",
   "execution_count": null,
   "outputs": [],
   "source": [
    "# from sklearn.ensemble import RandomForestClassifier, VotingClassifier\n",
    "# from sklearn.linear_model import LogisticRegression\n",
    "# from sklearn.svm import SVC\n",
    "# \n",
    "# voting_clf = VotingClassifier(\n",
    "#     estimators=[\n",
    "#         ('lr', LogisticRegression(random_state=42)),\n",
    "#         ('rf', RandomForestClassifier(random_state=42)),\n",
    "#         ('svc', SVC(random_state=42))\n",
    "#     ]\n",
    "# ,voting=\"soft\",n_jobs=-1)\n",
    "# X_train, y_train = mnist.data, mnist.target\n",
    "# voting_clf.fit(X_train, y_train)"
   ],
   "metadata": {
    "collapsed": false
   },
   "id": "f7ea242ff6508872"
  },
  {
   "cell_type": "code",
   "execution_count": null,
   "outputs": [],
   "source": [
    "# from sklearn.neural_network import MLPClassifier\n",
    "# from sklearn.preprocessing import StandardScaler\n",
    "# from sklearn.pipeline import make_pipeline\n",
    "# from sklearn.preprocessing import RobustScaler\n",
    "# \n",
    "# random = 42\n",
    "# \n",
    "# # StandardScaler 사용\n",
    "# nn_clf_mnist = make_pipeline(StandardScaler(), MLPClassifier(random_state=random,solver=\"lbfgs\",max_iter=300))\n",
    "# X_train, y_train = mnist.data / 255, mnist.target\n",
    "# nn_clf_mnist.fit(X_train, y_train)"
   ],
   "metadata": {
    "collapsed": false
   },
   "id": "20453aed9951b3bd"
  },
  {
   "cell_type": "code",
   "execution_count": null,
   "outputs": [],
   "source": [
    "# from sklearn.model_selection import cross_val_score\n",
    "# \n",
    "# cross_val_score(nn_clf_mnist, X_train, y_train, cv=5)"
   ],
   "metadata": {
    "collapsed": false
   },
   "id": "860a852e4b2c3078"
  },
  {
   "cell_type": "markdown",
   "source": [
    "### our data"
   ],
   "metadata": {
    "collapsed": false
   },
   "id": "d4d6418e3d5be66b"
  },
  {
   "cell_type": "code",
   "execution_count": null,
   "outputs": [],
   "source": [
    "def rebase_center(img):\n",
    "    r = 28\n",
    "    c = 28\n",
    "\n",
    "    # each boundary\n",
    "    r_top = r\n",
    "    r_bot = -1\n",
    "    c_left = c\n",
    "    c_right = -1\n",
    "\n",
    "    for n in range(r):\n",
    "        for m in range(c):\n",
    "            \n",
    "            # if the pixel has whatever value\n",
    "            if img[n][m] != 0:\n",
    "                # update the boundary\n",
    "                r_top = min(r_top, n)\n",
    "                r_bot = max(r_bot, n)\n",
    "                c_left = min(c_left, m)\n",
    "                c_right = max(c_right, m)\n",
    "    \n",
    "    # print(r_top,r_bot,c_left,c_right)\n",
    "    \n",
    "    c_len = c_right - c_left + 1\n",
    "    r_len = r_bot - r_top + 1\n",
    "\n",
    "    c_start = int((c - c_len) / 2)\n",
    "    r_start = int((r - r_len) / 2)\n",
    "\n",
    "    # print(c_len,r_len,c_start,r_start)\n",
    "\n",
    "    rebased_data = np.zeros((r,c),dtype=\"float64\")\n",
    "\n",
    "    # rebase into a center\n",
    "    rebased_data[r_start:r_start+r_len, c_start:c_start+c_len] = img[r_top:r_bot+1, c_left:c_right+1]\n",
    "    \n",
    "    return rebased_data\n"
   ],
   "metadata": {
    "collapsed": false
   },
   "id": "d224c74b83b1f7c9"
  },
  {
   "cell_type": "code",
   "execution_count": null,
   "outputs": [],
   "source": [
    "def detect_del_boundary(img, thickness=4, thres=10):\n",
    "    cur = np.reshape(img, (28, 28))\n",
    "\n",
    "    # how much you want to look at\n",
    "    t = thickness\n",
    "    # the threshold\n",
    "    threshold_t = thres\n",
    "\n",
    "    cnt_top = np.count_nonzero(cur[0:t, :])\n",
    "    cnt_down = np.count_nonzero(cur[28 - t:28, :])\n",
    "    cnt_left = np.count_nonzero(cur[:, 0:t])\n",
    "    cnt_right = np.count_nonzero(cur[:, 28 - t:28])\n",
    "\n",
    "    flag = False\n",
    "\n",
    "    if cnt_top > threshold_t:\n",
    "        cur[0:t, :] = 0.\n",
    "        flag = True\n",
    "\n",
    "    if cnt_down > threshold_t:\n",
    "        cur[28 - t:28, :] = 0.\n",
    "        flag = True\n",
    "\n",
    "    if cnt_left > threshold_t:\n",
    "        cur[:, 0:t] = 0.\n",
    "        flag = True\n",
    "\n",
    "    if cnt_right > threshold_t:\n",
    "        cur[:, 28 - t:28] = 0.\n",
    "        flag = True\n",
    "\n",
    "    return rebase_center(cur) if flag is True else cur\n"
   ],
   "metadata": {
    "collapsed": false
   },
   "id": "ceb1bafcbee34106"
  },
  {
   "cell_type": "code",
   "execution_count": null,
   "outputs": [],
   "source": [
    "def preprocessing(img, rebase=True, b_del=True, thick=True, one_array=True):    \n",
    "    siz = np.shape(img)[0]\n",
    "    \n",
    "    # row and column length\n",
    "    r = 28\n",
    "    c = 28\n",
    "    \n",
    "    # reshape to 2-d array(for convenience)\n",
    "    img_preprocessed = np.reshape(img, (siz, r, c))\n",
    "    \n",
    "    # rebase\n",
    "    if rebase:\n",
    "        print(\"rebase ongoing\")\n",
    "        \n",
    "        for x in range(siz):\n",
    "            img_preprocessed[x] = rebase_center(img_preprocessed[x])\n",
    "        print(\"done!\")\n",
    "    \n",
    "    # border deletion\n",
    "    if b_del:\n",
    "        print(\"border deletion ongoing\")\n",
    "        \n",
    "        for x in range(siz):\n",
    "            img_preprocessed[x] = detect_del_boundary(img_preprocessed[x])\n",
    "            \n",
    "        print(\"done!\")\n",
    "    \n",
    "    # thickening\n",
    "    if thick:\n",
    "        print(\"thickening ongoing\")\n",
    "        \n",
    "        print(\"done!\")\n",
    "    \n",
    "    return np.reshape(img_preprocessed, (siz, r * c)) if one_array else np.reshape(img_preprocessed, (siz, r, c))\n"
   ],
   "metadata": {
    "collapsed": false
   },
   "id": "f86711fc66a44f47"
  },
  {
   "cell_type": "code",
   "execution_count": null,
   "outputs": [],
   "source": [
    "from sklearn.neural_network import MLPClassifier\n",
    "from sklearn.preprocessing import StandardScaler\n",
    "from sklearn.pipeline import make_pipeline\n",
    "from sklearn.preprocessing import RobustScaler\n",
    "\n",
    "random = 42\n",
    "\n",
    "# RobustScaler 사용\n",
    "nn_clf_ours = make_pipeline(RobustScaler(), MLPClassifier(random_state=random,solver=\"lbfgs\",max_iter=300))\n",
    "X_train_ours, y_train_ours = preprocessing(curr_data_num_trVal[\"img\"].copy()), curr_data_num_trVal[\"label\"].copy()\n",
    "\n",
    "nn_clf_ours.fit(X_train_ours, y_train_ours)"
   ],
   "metadata": {
    "collapsed": false
   },
   "id": "9ddbbbd7b5c63746"
  },
  {
   "cell_type": "code",
   "execution_count": null,
   "outputs": [],
   "source": [
    "# cross_val_score(nn_clf_ours, X_train_ours, y_train_ours, cv=5)"
   ],
   "metadata": {
    "collapsed": false
   },
   "id": "98a2002b742f6afc"
  },
  {
   "cell_type": "markdown",
   "source": [
    "so now we have 2 models, mnist and ours with 0.97, 0.75 score"
   ],
   "metadata": {
    "collapsed": false
   },
   "id": "ec35f03455e68f2d"
  },
  {
   "cell_type": "markdown",
   "source": [
    "### find mislabel - test"
   ],
   "metadata": {
    "collapsed": false
   },
   "id": "26598935cc553ce2"
  },
  {
   "cell_type": "code",
   "execution_count": null,
   "outputs": [],
   "source": [
    "size = np.shape(X_train_ours)[0]\n",
    "\n",
    "list_mnist = []\n",
    "list_mnist_score = []\n",
    "list_ours = []\n",
    "list_ours_score = []\n",
    "\n",
    "for i in range(size):\n",
    "    curr = np.reshape(X_train_ours[i].copy(), (1,-1))\n",
    "    label = curr_data_num_trVal[\"label\"][i]\n",
    "\n",
    "    # predict_mnist = nn_clf_mnist.predict(curr)\n",
    "    predict_ours = nn_clf_ours.predict(curr)\n",
    "\n",
    "    # score_mnist = nn_clf_mnist.predict_proba(curr)\n",
    "    # score_ours = nn_clf_ours.predict_proba(curr)\n",
    "    \n",
    "    # if predict_mnist != label:\n",
    "    #     list_mnist = np.append(list_mnist, i)\n",
    "    #     list_mnist_score = np.append(list_mnist_score, nn_clf_mnist.predict_proba(curr))\n",
    "\n",
    "    if predict_ours != label:\n",
    "        list_ours = np.append(list_ours, i)\n",
    "        list_ours_score = np.append(list_ours_score, nn_clf_ours.predict_proba(curr))\n",
    "    "
   ],
   "metadata": {
    "collapsed": false
   },
   "id": "18ee6fd6e3148f58"
  },
  {
   "cell_type": "code",
   "execution_count": null,
   "outputs": [],
   "source": [
    "print(len(list_ours),len(list_mnist))"
   ],
   "metadata": {
    "collapsed": false
   },
   "id": "7ab94a1e638711a7"
  },
  {
   "cell_type": "markdown",
   "source": [
    "so mnist is not that efficient finding mislabeled ones(which is worried about later work)\n",
    "let's check the wrong labeled ones"
   ],
   "metadata": {
    "collapsed": false
   },
   "id": "cc46549548225b80"
  },
  {
   "cell_type": "code",
   "execution_count": 75,
   "outputs": [],
   "source": [
    "import matplotlib.pyplot as plt\n",
    "\n",
    "def plot_digit(image_data, axis=False):\n",
    "    image = image_data.reshape(28, 28)\n",
    "    plt.imshow(image, cmap=\"binary\")\n",
    "\n",
    "    if not axis:\n",
    "        plt.axis(\"off\")"
   ],
   "metadata": {
    "collapsed": false,
    "ExecuteTime": {
     "end_time": "2023-11-24T12:13:30.856416400Z",
     "start_time": "2023-11-24T12:13:30.821914100Z"
    }
   },
   "id": "a8b2a60d04540707"
  },
  {
   "cell_type": "code",
   "execution_count": 76,
   "outputs": [
    {
     "data": {
      "text/plain": "<Figure size 640x480 with 1 Axes>",
      "image/png": "[encoded data removed]"
     },
     "metadata": {},
     "output_type": "display_data"
    },
    {
     "name": "stdout",
     "output_type": "stream",
     "text": [
      "index: 90\n",
      "2\n"
     ]
    },
    {
     "data": {
      "text/plain": "<Figure size 640x480 with 1 Axes>",
      "image/png": "[encoded data removed]"
     },
     "metadata": {},
     "output_type": "display_data"
    },
    {
     "name": "stdout",
     "output_type": "stream",
     "text": [
      "index: 732\n",
      "8\n"
     ]
    },
    {
     "data": {
      "text/plain": "<Figure size 640x480 with 1 Axes>",
      "image/png": "[encoded data removed]"
     },
     "metadata": {},
     "output_type": "display_data"
    },
    {
     "name": "stdout",
     "output_type": "stream",
     "text": [
      "index: 896\n",
      "0\n"
     ]
    },
    {
     "data": {
      "text/plain": "<Figure size 640x480 with 1 Axes>",
      "image/png": "[encoded data removed]"
     },
     "metadata": {},
     "output_type": "display_data"
    },
    {
     "name": "stdout",
     "output_type": "stream",
     "text": [
      "index: 1236\n",
      "5\n"
     ]
    },
    {
     "data": {
      "text/plain": "<Figure size 640x480 with 1 Axes>",
      "image/png": "[encoded data removed]"
     },
     "metadata": {},
     "output_type": "display_data"
    },
    {
     "name": "stdout",
     "output_type": "stream",
     "text": [
      "index: 1779\n",
      "0\n"
     ]
    },
    {
     "data": {
      "text/plain": "<Figure size 640x480 with 1 Axes>",
      "image/png": "[encoded data removed]"
     },
     "metadata": {},
     "output_type": "display_data"
    },
    {
     "name": "stdout",
     "output_type": "stream",
     "text": [
      "index: 1827\n",
      "8\n"
     ]
    },
    {
     "data": {
      "text/plain": "<Figure size 640x480 with 1 Axes>",
      "image/png": "[encoded data removed]"
     },
     "metadata": {},
     "output_type": "display_data"
    },
    {
     "name": "stdout",
     "output_type": "stream",
     "text": [
      "index: 1894\n",
      "0\n"
     ]
    },
    {
     "data": {
      "text/plain": "<Figure size 640x480 with 1 Axes>",
      "image/png": "[encoded data removed]"
     },
     "metadata": {},
     "output_type": "display_data"
    },
    {
     "name": "stdout",
     "output_type": "stream",
     "text": [
      "index: 2136\n",
      "8\n"
     ]
    },
    {
     "data": {
      "text/plain": "<Figure size 640x480 with 1 Axes>",
      "image/png": "[encoded data removed]"
     },
     "metadata": {},
     "output_type": "display_data"
    },
    {
     "name": "stdout",
     "output_type": "stream",
     "text": [
      "index: 2732\n",
      "5\n"
     ]
    },
    {
     "data": {
      "text/plain": "<Figure size 640x480 with 1 Axes>",
      "image/png": "[encoded data removed]"
     },
     "metadata": {},
     "output_type": "display_data"
    },
    {
     "name": "stdout",
     "output_type": "stream",
     "text": [
      "index: 3494\n",
      "0\n"
     ]
    },
    {
     "data": {
      "text/plain": "<Figure size 640x480 with 1 Axes>",
      "image/png": "[encoded data removed]"
     },
     "metadata": {},
     "output_type": "display_data"
    },
    {
     "name": "stdout",
     "output_type": "stream",
     "text": [
      "index: 3636\n",
      "0\n"
     ]
    },
    {
     "data": {
      "text/plain": "<Figure size 640x480 with 1 Axes>",
      "image/png": "[encoded data removed]"
     },
     "metadata": {},
     "output_type": "display_data"
    },
    {
     "name": "stdout",
     "output_type": "stream",
     "text": [
      "index: 3688\n",
      "8\n"
     ]
    },
    {
     "data": {
      "text/plain": "<Figure size 640x480 with 1 Axes>",
      "image/png": "[encoded data removed]"
     },
     "metadata": {},
     "output_type": "display_data"
    },
    {
     "name": "stdout",
     "output_type": "stream",
     "text": [
      "index: 3739\n",
      "1\n"
     ]
    },
    {
     "data": {
      "text/plain": "<Figure size 640x480 with 1 Axes>",
      "image/png": "[encoded data removed]"
     },
     "metadata": {},
     "output_type": "display_data"
    },
    {
     "name": "stdout",
     "output_type": "stream",
     "text": [
      "index: 4163\n",
      "7\n"
     ]
    },
    {
     "data": {
      "text/plain": "<Figure size 640x480 with 1 Axes>",
      "image/png": "[encoded data removed]"
     },
     "metadata": {},
     "output_type": "display_data"
    },
    {
     "name": "stdout",
     "output_type": "stream",
     "text": [
      "index: 4708\n",
      "2\n"
     ]
    },
    {
     "data": {
      "text/plain": "<Figure size 640x480 with 1 Axes>",
      "image/png": "[encoded data removed]"
     },
     "metadata": {},
     "output_type": "display_data"
    },
    {
     "name": "stdout",
     "output_type": "stream",
     "text": [
      "index: 4879\n",
      "5\n"
     ]
    },
    {
     "data": {
      "text/plain": "<Figure size 640x480 with 1 Axes>",
      "image/png": "[encoded data removed]"
     },
     "metadata": {},
     "output_type": "display_data"
    },
    {
     "name": "stdout",
     "output_type": "stream",
     "text": [
      "index: 5014\n",
      "9\n"
     ]
    },
    {
     "data": {
      "text/plain": "<Figure size 640x480 with 1 Axes>",
      "image/png": "[encoded data removed]"
     },
     "metadata": {},
     "output_type": "display_data"
    },
    {
     "name": "stdout",
     "output_type": "stream",
     "text": [
      "index: 5468\n",
      "8\n"
     ]
    },
    {
     "data": {
      "text/plain": "<Figure size 640x480 with 1 Axes>",
      "image/png": "[encoded data removed]"
     },
     "metadata": {},
     "output_type": "display_data"
    },
    {
     "name": "stdout",
     "output_type": "stream",
     "text": [
      "index: 5508\n",
      "9\n"
     ]
    },
    {
     "data": {
      "text/plain": "<Figure size 640x480 with 1 Axes>",
      "image/png": "[encoded data removed]"
     },
     "metadata": {},
     "output_type": "display_data"
    },
    {
     "name": "stdout",
     "output_type": "stream",
     "text": [
      "index: 5905\n",
      "2\n"
     ]
    },
    {
     "data": {
      "text/plain": "<Figure size 640x480 with 1 Axes>",
      "image/png": "[encoded data removed]"
     },
     "metadata": {},
     "output_type": "display_data"
    },
    {
     "name": "stdout",
     "output_type": "stream",
     "text": [
      "index: 6124\n",
      "9\n"
     ]
    },
    {
     "data": {
      "text/plain": "<Figure size 640x480 with 1 Axes>",
      "image/png": "[encoded data removed]"
     },
     "metadata": {},
     "output_type": "display_data"
    },
    {
     "name": "stdout",
     "output_type": "stream",
     "text": [
      "index: 6176\n",
      "2\n"
     ]
    },
    {
     "data": {
      "text/plain": "<Figure size 640x480 with 1 Axes>",
      "image/png": "[encoded data removed]"
     },
     "metadata": {},
     "output_type": "display_data"
    },
    {
     "name": "stdout",
     "output_type": "stream",
     "text": [
      "index: 6952\n",
      "3\n"
     ]
    },
    {
     "data": {
      "text/plain": "<Figure size 640x480 with 1 Axes>",
      "image/png": "[encoded data removed]"
     },
     "metadata": {},
     "output_type": "display_data"
    },
    {
     "name": "stdout",
     "output_type": "stream",
     "text": [
      "index: 7145\n",
      "5\n"
     ]
    },
    {
     "data": {
      "text/plain": "<Figure size 640x480 with 1 Axes>",
      "image/png": "[encoded data removed]"
     },
     "metadata": {},
     "output_type": "display_data"
    },
    {
     "name": "stdout",
     "output_type": "stream",
     "text": [
      "index: 7318\n",
      "8\n"
     ]
    },
    {
     "data": {
      "text/plain": "<Figure size 640x480 with 1 Axes>",
      "image/png": "[encoded data removed]"
     },
     "metadata": {},
     "output_type": "display_data"
    },
    {
     "name": "stdout",
     "output_type": "stream",
     "text": [
      "index: 8305\n",
      "4\n"
     ]
    },
    {
     "data": {
      "text/plain": "<Figure size 640x480 with 1 Axes>",
      "image/png": "[encoded data removed]"
     },
     "metadata": {},
     "output_type": "display_data"
    },
    {
     "name": "stdout",
     "output_type": "stream",
     "text": [
      "index: 8546\n",
      "4\n"
     ]
    },
    {
     "data": {
      "text/plain": "<Figure size 640x480 with 1 Axes>",
      "image/png": "[encoded data removed]"
     },
     "metadata": {},
     "output_type": "display_data"
    },
    {
     "name": "stdout",
     "output_type": "stream",
     "text": [
      "index: 8915\n",
      "2\n"
     ]
    },
    {
     "data": {
      "text/plain": "<Figure size 640x480 with 1 Axes>",
      "image/png": "[encoded data removed]"
     },
     "metadata": {},
     "output_type": "display_data"
    },
    {
     "name": "stdout",
     "output_type": "stream",
     "text": [
      "index: 8961\n",
      "5\n"
     ]
    },
    {
     "data": {
      "text/plain": "<Figure size 640x480 with 1 Axes>",
      "image/png": "[encoded data removed]"
     },
     "metadata": {},
     "output_type": "display_data"
    },
    {
     "name": "stdout",
     "output_type": "stream",
     "text": [
      "index: 10340\n",
      "7\n"
     ]
    },
    {
     "data": {
      "text/plain": "<Figure size 640x480 with 1 Axes>",
      "image/png": "[encoded data removed]"
     },
     "metadata": {},
     "output_type": "display_data"
    },
    {
     "name": "stdout",
     "output_type": "stream",
     "text": [
      "index: 10373\n",
      "9\n"
     ]
    },
    {
     "data": {
      "text/plain": "<Figure size 640x480 with 1 Axes>",
      "image/png": "[encoded data removed]"
     },
     "metadata": {},
     "output_type": "display_data"
    },
    {
     "name": "stdout",
     "output_type": "stream",
     "text": [
      "index: 10521\n",
      "6\n"
     ]
    },
    {
     "data": {
      "text/plain": "<Figure size 640x480 with 1 Axes>",
      "image/png": "[encoded data removed]"
     },
     "metadata": {},
     "output_type": "display_data"
    },
    {
     "name": "stdout",
     "output_type": "stream",
     "text": [
      "index: 10620\n",
      "3\n"
     ]
    },
    {
     "data": {
      "text/plain": "<Figure size 640x480 with 1 Axes>",
      "image/png": "[encoded data removed]"
     },
     "metadata": {},
     "output_type": "display_data"
    },
    {
     "name": "stdout",
     "output_type": "stream",
     "text": [
      "index: 11067\n",
      "6\n"
     ]
    },
    {
     "data": {
      "text/plain": "<Figure size 640x480 with 1 Axes>",
      "image/png": "[encoded data removed]"
     },
     "metadata": {},
     "output_type": "display_data"
    },
    {
     "name": "stdout",
     "output_type": "stream",
     "text": [
      "index: 11102\n",
      "1\n"
     ]
    },
    {
     "data": {
      "text/plain": "<Figure size 640x480 with 1 Axes>",
      "image/png": "[encoded data removed]"
     },
     "metadata": {},
     "output_type": "display_data"
    },
    {
     "name": "stdout",
     "output_type": "stream",
     "text": [
      "index: 11232\n",
      "0\n"
     ]
    },
    {
     "data": {
      "text/plain": "<Figure size 640x480 with 1 Axes>",
      "image/png": "[encoded data removed]"
     },
     "metadata": {},
     "output_type": "display_data"
    },
    {
     "name": "stdout",
     "output_type": "stream",
     "text": [
      "index: 11663\n",
      "2\n"
     ]
    },
    {
     "data": {
      "text/plain": "<Figure size 640x480 with 1 Axes>",
      "image/png": "[encoded data removed]"
     },
     "metadata": {},
     "output_type": "display_data"
    },
    {
     "name": "stdout",
     "output_type": "stream",
     "text": [
      "index: 11785\n",
      "1\n"
     ]
    },
    {
     "data": {
      "text/plain": "<Figure size 640x480 with 1 Axes>",
      "image/png": "[encoded data removed]"
     },
     "metadata": {},
     "output_type": "display_data"
    },
    {
     "name": "stdout",
     "output_type": "stream",
     "text": [
      "index: 12396\n",
      "8\n"
     ]
    },
    {
     "data": {
      "text/plain": "<Figure size 640x480 with 1 Axes>",
      "image/png": "[encoded data removed]"
     },
     "metadata": {},
     "output_type": "display_data"
    },
    {
     "name": "stdout",
     "output_type": "stream",
     "text": [
      "index: 12455\n",
      "6\n"
     ]
    },
    {
     "data": {
      "text/plain": "<Figure size 640x480 with 1 Axes>",
      "image/png": "[encoded data removed]"
     },
     "metadata": {},
     "output_type": "display_data"
    },
    {
     "name": "stdout",
     "output_type": "stream",
     "text": [
      "index: 12739\n",
      "5\n"
     ]
    },
    {
     "data": {
      "text/plain": "<Figure size 640x480 with 1 Axes>",
      "image/png": "[encoded data removed]"
     },
     "metadata": {},
     "output_type": "display_data"
    },
    {
     "name": "stdout",
     "output_type": "stream",
     "text": [
      "index: 13331\n",
      "2\n"
     ]
    },
    {
     "data": {
      "text/plain": "<Figure size 640x480 with 1 Axes>",
      "image/png": "[encoded data removed]"
     },
     "metadata": {},
     "output_type": "display_data"
    },
    {
     "name": "stdout",
     "output_type": "stream",
     "text": [
      "index: 13357\n",
      "8\n"
     ]
    },
    {
     "data": {
      "text/plain": "<Figure size 640x480 with 1 Axes>",
      "image/png": "[encoded data removed]"
     },
     "metadata": {},
     "output_type": "display_data"
    },
    {
     "name": "stdout",
     "output_type": "stream",
     "text": [
      "index: 13564\n",
      "7\n"
     ]
    },
    {
     "data": {
      "text/plain": "<Figure size 640x480 with 1 Axes>",
      "image/png": "[encoded data removed]"
     },
     "metadata": {},
     "output_type": "display_data"
    },
    {
     "name": "stdout",
     "output_type": "stream",
     "text": [
      "index: 13635\n",
      "9\n"
     ]
    },
    {
     "data": {
      "text/plain": "<Figure size 640x480 with 1 Axes>",
      "image/png": "[encoded data removed]"
     },
     "metadata": {},
     "output_type": "display_data"
    },
    {
     "name": "stdout",
     "output_type": "stream",
     "text": [
      "index: 13732\n",
      "1\n"
     ]
    },
    {
     "data": {
      "text/plain": "<Figure size 640x480 with 1 Axes>",
      "image/png": "[encoded data removed]"
     },
     "metadata": {},
     "output_type": "display_data"
    },
    {
     "name": "stdout",
     "output_type": "stream",
     "text": [
      "index: 13803\n",
      "5\n"
     ]
    },
    {
     "data": {
      "text/plain": "<Figure size 640x480 with 1 Axes>",
      "image/png": "[encoded data removed]"
     },
     "metadata": {},
     "output_type": "display_data"
    },
    {
     "name": "stdout",
     "output_type": "stream",
     "text": [
      "index: 13872\n",
      "2\n"
     ]
    },
    {
     "data": {
      "text/plain": "<Figure size 640x480 with 1 Axes>",
      "image/png": "[encoded data removed]"
     },
     "metadata": {},
     "output_type": "display_data"
    },
    {
     "name": "stdout",
     "output_type": "stream",
     "text": [
      "index: 14214\n",
      "6\n"
     ]
    },
    {
     "data": {
      "text/plain": "<Figure size 640x480 with 1 Axes>",
      "image/png": "[encoded data removed]"
     },
     "metadata": {},
     "output_type": "display_data"
    },
    {
     "name": "stdout",
     "output_type": "stream",
     "text": [
      "index: 14238\n",
      "3\n"
     ]
    },
    {
     "data": {
      "text/plain": "<Figure size 640x480 with 1 Axes>",
      "image/png": "[encoded data removed]"
     },
     "metadata": {},
     "output_type": "display_data"
    },
    {
     "name": "stdout",
     "output_type": "stream",
     "text": [
      "index: 14477\n",
      "9\n"
     ]
    },
    {
     "data": {
      "text/plain": "<Figure size 640x480 with 1 Axes>",
      "image/png": "[encoded data removed]"
     },
     "metadata": {},
     "output_type": "display_data"
    },
    {
     "name": "stdout",
     "output_type": "stream",
     "text": [
      "index: 14764\n",
      "7\n"
     ]
    },
    {
     "ename": "IndexError",
     "evalue": "index 15164 is out of bounds for axis 0 with size 14775",
     "output_type": "error",
     "traceback": [
      "\u001B[1;31m---------------------------------------------------------------------------\u001B[0m",
      "\u001B[1;31mIndexError\u001B[0m                                Traceback (most recent call last)",
      "Cell \u001B[1;32mIn[76], line 2\u001B[0m\n\u001B[0;32m      1\u001B[0m \u001B[38;5;28;01mfor\u001B[39;00m i \u001B[38;5;129;01min\u001B[39;00m list_ours\u001B[38;5;241m.\u001B[39mastype(\u001B[38;5;124m\"\u001B[39m\u001B[38;5;124mint64\u001B[39m\u001B[38;5;124m\"\u001B[39m):\n\u001B[1;32m----> 2\u001B[0m     plot_digit(curr_data_num_trVal[\u001B[38;5;124m\"\u001B[39m\u001B[38;5;124mimg\u001B[39m\u001B[38;5;124m\"\u001B[39m][i])\n\u001B[0;32m      3\u001B[0m     plt\u001B[38;5;241m.\u001B[39mshow()\n\u001B[0;32m      4\u001B[0m     \u001B[38;5;28mprint\u001B[39m(\u001B[38;5;124mf\u001B[39m\u001B[38;5;124m\"\u001B[39m\u001B[38;5;124mindex: \u001B[39m\u001B[38;5;132;01m{\u001B[39;00mi\u001B[38;5;132;01m}\u001B[39;00m\u001B[38;5;124m\"\u001B[39m)\n",
      "\u001B[1;31mIndexError\u001B[0m: index 15164 is out of bounds for axis 0 with size 14775"
     ]
    }
   ],
   "source": [
    "for i in list_ours.astype(\"int64\"):\n",
    "    plot_digit(curr_data_num_trVal[\"img\"][i])\n",
    "    plt.show()\n",
    "    print(f\"index: {i}\")\n",
    "    print(curr_data_num_trVal[\"label\"][i])"
   ],
   "metadata": {
    "collapsed": false,
    "ExecuteTime": {
     "end_time": "2023-11-24T12:13:41.581881300Z",
     "start_time": "2023-11-24T12:13:31.152753900Z"
    }
   },
   "id": "913ca0baecaaef97"
  },
  {
   "cell_type": "markdown",
   "source": [
    "so some are mislabeled(1 -> something else), and one has no img, and some are symbol '-'"
   ],
   "metadata": {
    "collapsed": false
   },
   "id": "b220ee0d58be8835"
  },
  {
   "cell_type": "code",
   "execution_count": null,
   "outputs": [],
   "source": [
    "num_trVal_img_fixed = curr_data_num_trVal[\"img\"].copy()\n",
    "num_trVal_label_fixed = curr_data_num_trVal[\"label\"].copy()"
   ],
   "metadata": {
    "collapsed": false
   },
   "id": "6b4633aae4dbd279"
  },
  {
   "cell_type": "code",
   "execution_count": null,
   "outputs": [],
   "source": [
    "print(\n",
    "num_trVal_label_fixed.shape,\n",
    "num_trVal_img_fixed.shape\n",
    ")"
   ],
   "metadata": {
    "collapsed": false
   },
   "id": "3d82e54e8af54cdf"
  },
  {
   "cell_type": "code",
   "execution_count": null,
   "outputs": [],
   "source": [
    "# 1. fix label\n",
    "# 1509,7263,8662,13095 to '1'\n",
    "\n",
    "for i in [1509, 7263, 8662, 13095]:\n",
    "    num_trVal_label_fixed[i] = '1'"
   ],
   "metadata": {
    "collapsed": false
   },
   "id": "86bba79d103b6a8"
  },
  {
   "cell_type": "code",
   "execution_count": null,
   "outputs": [],
   "source": [
    "print(\n",
    "num_trVal_label_fixed.shape,\n",
    "num_trVal_img_fixed.shape\n",
    ")"
   ],
   "metadata": {
    "collapsed": false
   },
   "id": "5f1f966df2d407f0"
  },
  {
   "cell_type": "code",
   "execution_count": null,
   "outputs": [],
   "source": [
    "# 2. delete label and img\n",
    "# 1448, 14573, 14736\n",
    "\n",
    "num_trVal_label_fixed = np.delete(num_trVal_label_fixed, (1448, 14573, 14736))\n",
    "num_trVal_img_fixed = np.delete(num_trVal_img_fixed, (1448, 14573, 14736),axis=0)"
   ],
   "metadata": {
    "collapsed": false
   },
   "id": "fb11b3ab8f3debe0"
  },
  {
   "cell_type": "code",
   "execution_count": null,
   "outputs": [],
   "source": [
    "print(\n",
    "num_trVal_label_fixed.shape,\n",
    "num_trVal_img_fixed.shape\n",
    ")"
   ],
   "metadata": {
    "collapsed": false
   },
   "id": "699b990e07d57ca"
  },
  {
   "cell_type": "markdown",
   "source": [
    "so far we relabeled by comparing the labels, but we also have **predict_proba**\n",
    "we can assume if an img has a low **predict_proba**(even the prediction is correct), we may assume something is wrong about that img"
   ],
   "metadata": {
    "collapsed": false
   },
   "id": "b7be99b696bb76f8"
  },
  {
   "cell_type": "code",
   "execution_count": null,
   "outputs": [],
   "source": [
    "nn_clf_ours.fit(preprocessing(num_trVal_img_fixed), num_trVal_label_fixed)"
   ],
   "metadata": {
    "collapsed": false
   },
   "id": "3f6c0801e2ee6867"
  },
  {
   "cell_type": "code",
   "execution_count": null,
   "outputs": [],
   "source": [
    "size = np.shape(num_trVal_img_fixed)[0]\n",
    "\n",
    "list_ours = []\n",
    "list_ours_score = []\n",
    "\n",
    "for i in range(size):\n",
    "    curr = np.reshape(num_trVal_img_fixed[i].copy(), (1, -1))\n",
    "    label = num_trVal_label_fixed[i]\n",
    "\n",
    "    prediction = int (nn_clf_ours.predict(curr))\n",
    "    score_ours = nn_clf_ours.predict_proba(curr)[0,prediction]\n",
    "    threshold = 0.985\n",
    "\n",
    "    if score_ours <= threshold:\n",
    "        list_ours = np.append(list_ours, i)\n",
    "        list_ours_score = np.append(list_ours_score, score_ours)\n"
   ],
   "metadata": {
    "collapsed": false
   },
   "id": "771d347e5a1adf37"
  },
  {
   "cell_type": "code",
   "execution_count": null,
   "outputs": [],
   "source": [
    "len(list_ours)"
   ],
   "metadata": {
    "collapsed": false
   },
   "id": "19d881fce02bc56"
  },
  {
   "cell_type": "code",
   "execution_count": null,
   "outputs": [],
   "source": [
    "# for i in list_ours.astype(\"int64\"):\n",
    "#     plot_digit(num_trVal_img_fixed[i])\n",
    "#     plt.show()\n",
    "#     print(f\"index: {i}\")\n",
    "#     print(num_trVal_label_fixed[i])"
   ],
   "metadata": {
    "collapsed": false
   },
   "id": "998c94b3570d4c64"
  },
  {
   "cell_type": "code",
   "execution_count": null,
   "outputs": [],
   "source": [
    "# 1. fix label\n",
    "\n",
    "# 3313, 4210, 7943, 10668, 12129, 12939, 13341, 13964 to '1'\n",
    "for i in [3313, 4210, 7943, 10668, 12129, 12939, 13341, 13964]:\n",
    "    num_trVal_label_fixed[i] = '1'\n",
    "    \n",
    "# 4953, 8308, 12748 to '0'\n",
    "for i in [4953, 8308, 12748]:\n",
    "    num_trVal_label_fixed[i] = '0'\n",
    "    \n",
    "# 6960 to '5'\n",
    "num_trVal_label_fixed[6960] = '5'\n",
    "\n",
    "# 11256 to '6'\n",
    "num_trVal_label_fixed[11256] = '6'\n",
    "\n",
    "# 5058 to '7'\n",
    "num_trVal_label_fixed[5058] = '7'\n",
    "\n",
    "# 11256 to '8'\n",
    "num_trVal_label_fixed[11256] = '8'"
   ],
   "metadata": {
    "collapsed": false
   },
   "id": "3c4718d78ede0ff9"
  },
  {
   "cell_type": "code",
   "execution_count": null,
   "outputs": [],
   "source": [
    "# 2. delete label and img\n",
    "# 4076, 14302, 14573, 14668, 14676, 14686, 14757\n",
    "\n",
    "num_trVal_label_fixed = np.delete(num_trVal_label_fixed, (4076, 14302, 14573, 14668, 14676, 14686, 14757))\n",
    "num_trVal_img_fixed = np.delete(num_trVal_img_fixed, (4076, 14302, 14573, 14668, 14676, 14686, 14757),axis=0)"
   ],
   "metadata": {
    "collapsed": false
   },
   "id": "ebd702cb39f440c4"
  },
  {
   "cell_type": "markdown",
   "source": [],
   "metadata": {
    "collapsed": false
   },
   "id": "3932a7892307405c"
  },
  {
   "cell_type": "code",
   "execution_count": null,
   "outputs": [],
   "source": [
    "print(\n",
    "num_trVal_label_fixed.shape,\n",
    "num_trVal_img_fixed.shape\n",
    ")"
   ],
   "metadata": {
    "collapsed": false
   },
   "id": "6799dde20eb394f2"
  },
  {
   "cell_type": "markdown",
   "source": [
    "let's do this to all of our data"
   ],
   "metadata": {
    "collapsed": false
   },
   "id": "de2ae0485a13ec46"
  },
  {
   "cell_type": "markdown",
   "source": [
    "## digit test"
   ],
   "metadata": {
    "collapsed": false
   },
   "id": "8fc23a36db899c1"
  },
  {
   "cell_type": "code",
   "execution_count": null,
   "outputs": [],
   "source": [
    "num_test_img_fixed = curr_data_num_test[\"img\"].copy()\n",
    "num_test_label_fixed = curr_data_num_test[\"label\"].copy()"
   ],
   "metadata": {
    "collapsed": false
   },
   "id": "86f6f06ddc449efa"
  },
  {
   "cell_type": "code",
   "execution_count": null,
   "outputs": [],
   "source": [
    "X_test_ours, y_test_ours =  preprocessing(curr_data_num_test[\"img\"].copy()), curr_data_num_test[\"label\"].copy()\n",
    "\n",
    "nn_clf_ours.fit(preprocessing(num_trVal_img_fixed), num_trVal_label_fixed)"
   ],
   "metadata": {
    "collapsed": false
   },
   "id": "5ea93f93675d22c5"
  },
  {
   "cell_type": "code",
   "execution_count": null,
   "outputs": [],
   "source": [
    "# using label mismatch\n",
    "\n",
    "size = np.shape(X_test_ours)[0]\n",
    "\n",
    "list_ours = []\n",
    "\n",
    "for i in range(size):\n",
    "    curr = np.reshape(X_test_ours[i].copy(), (1,-1))\n",
    "    label = curr_data_num_test[\"label\"][i]\n",
    "\n",
    "    predict_ours = nn_clf_ours.predict(curr)\n",
    "\n",
    "    if predict_ours != label:\n",
    "        list_ours = np.append(list_ours, i)\n",
    "    "
   ],
   "metadata": {
    "collapsed": false
   },
   "id": "4f4ef59a79e465aa"
  },
  {
   "cell_type": "code",
   "execution_count": null,
   "outputs": [],
   "source": [
    "len(list_ours)"
   ],
   "metadata": {
    "collapsed": false
   },
   "id": "657176191bc49bde"
  },
  {
   "cell_type": "markdown",
   "source": [
    "too many, lets use the predict_proba"
   ],
   "metadata": {
    "collapsed": false
   },
   "id": "d9f2b87c6d03f9f3"
  },
  {
   "cell_type": "code",
   "execution_count": null,
   "outputs": [],
   "source": [
    "# for i in range(30):\n",
    "#     plot_digit(num_test_img_fixed[i])\n",
    "#     plt.show()\n",
    "#     print(num_test_label_fixed[i])"
   ],
   "metadata": {
    "collapsed": false
   },
   "id": "b2c678c5a570934b"
  },
  {
   "cell_type": "code",
   "execution_count": null,
   "outputs": [],
   "source": [
    "# using predict_proba\n",
    "\n",
    "size = np.shape(X_test_ours)[0]\n",
    "\n",
    "list_ours = []\n",
    "\n",
    "for i in range(size):\n",
    "    curr = np.reshape(X_test_ours[i].copy(), (1, -1))\n",
    "    label = num_test_label_fixed[i]\n",
    "\n",
    "    prediction = int (nn_clf_ours.predict(curr))\n",
    "    score_ours = nn_clf_ours.predict_proba(curr)[0,prediction]\n",
    "    threshold = 0.75\n",
    "\n",
    "    if score_ours <= threshold:\n",
    "        list_ours = np.append(list_ours, i)\n",
    "        \n",
    "    "
   ],
   "metadata": {
    "collapsed": false
   },
   "id": "c7c699fcf7c22ded"
  },
  {
   "cell_type": "code",
   "execution_count": null,
   "outputs": [],
   "source": [
    "len(list_ours)"
   ],
   "metadata": {
    "collapsed": false
   },
   "id": "f99cef3cc5770a6c"
  },
  {
   "cell_type": "code",
   "execution_count": null,
   "outputs": [],
   "source": [
    "for i in list_ours.astype(\"int64\"):\n",
    "    plot_digit(num_test_img_fixed[i])\n",
    "    plt.show()\n",
    "    print(f\"index: {i}\")\n",
    "    print(num_test_label_fixed[i])"
   ],
   "metadata": {
    "collapsed": false
   },
   "id": "3b20fb1386364810"
  },
  {
   "cell_type": "code",
   "execution_count": null,
   "outputs": [],
   "source": [
    "# 1. fix label\n",
    "\n",
    "# 851 to '2'\n",
    "num_test_label_fixed[851] = '2'\n",
    "\n",
    "# 992 to '4'\n",
    "num_test_label_fixed[992] = '4'\n",
    "\n",
    "# 2008 to '5'\n",
    "num_test_label_fixed[2008] = '5'\n",
    "\n",
    "# 516, 998, 1622 to '6'\n",
    "for i in [516,998,1622]:\n",
    "    num_test_label_fixed[i] = '6'\n",
    "\n",
    "# 1051, 1481 to '8'\n",
    "for i in [516,998,1622]:\n",
    "    num_test_label_fixed[i] = '8'\n",
    "\n",
    "# 767 to '9'\n",
    "num_test_label_fixed[767] = '9'\n",
    "\n",
    "# 2. delete label and img\n",
    "\n",
    "# 635, 725, 960, 1033, 1883, 2068, 2074, 2083, 2098, 2100, 2101, 2111, 2094\n",
    "\n",
    "num_trVal_label_fixed = np.delete(num_test_label_fixed, (635, 725, 960, 1033, 1883, 2068, 2074, 2083, 2098, 2100, 2101, 2111, 2094))\n",
    "num_trVal_img_fixed = np.delete(num_test_img_fixed, (635, 725, 960, 1033, 1883, 2068, 2074, 2083, 2098, 2100, 2101, 2111, 2094), axis=0)"
   ],
   "metadata": {
    "collapsed": false
   },
   "id": "760a7924882ba651"
  },
  {
   "cell_type": "code",
   "execution_count": null,
   "outputs": [],
   "source": [
    "print(\n",
    "num_test_label_fixed.shape,\n",
    "num_test_img_fixed.shape\n",
    ")"
   ],
   "metadata": {
    "collapsed": false
   },
   "id": "b6bea57dba4a018"
  },
  {
   "cell_type": "markdown",
   "source": [
    "## symbolic trVal"
   ],
   "metadata": {
    "collapsed": false
   },
   "id": "49dc4dec1da27d34"
  },
  {
   "cell_type": "code",
   "execution_count": 69,
   "outputs": [],
   "source": [
    "sym_trVal_img_fixed = curr_data_sym_trVal[\"img\"].copy()\n",
    "sym_trVal_label_fixed = curr_data_sym_trVal[\"label\"].copy()"
   ],
   "metadata": {
    "collapsed": false,
    "ExecuteTime": {
     "end_time": "2023-11-24T12:11:57.788086300Z",
     "start_time": "2023-11-24T12:11:57.530983700Z"
    }
   },
   "id": "82427f4dbcc6f929"
  },
  {
   "cell_type": "code",
   "execution_count": 70,
   "outputs": [
    {
     "name": "stdout",
     "output_type": "stream",
     "text": [
      "rebase ongoing\n",
      "done!\n",
      "border deletion ongoing\n",
      "done!\n",
      "thickening ongoing\n",
      "done!\n"
     ]
    },
    {
     "data": {
      "text/plain": "Pipeline(steps=[('robustscaler', RobustScaler()),\n                ('mlpclassifier',\n                 MLPClassifier(max_iter=300, random_state=42, solver='lbfgs'))])",
      "text/html": "<style>#sk-container-id-5 {color: black;}#sk-container-id-5 pre{padding: 0;}#sk-container-id-5 div.sk-toggleable {background-color: white;}#sk-container-id-5 label.sk-toggleable__label {cursor: pointer;display: block;width: 100%;margin-bottom: 0;padding: 0.3em;box-sizing: border-box;text-align: center;}#sk-container-id-5 label.sk-toggleable__label-arrow:before {content: \"▸\";float: left;margin-right: 0.25em;color: #696969;}#sk-container-id-5 label.sk-toggleable__label-arrow:hover:before {color: black;}#sk-container-id-5 div.sk-estimator:hover label.sk-toggleable__label-arrow:before {color: black;}#sk-container-id-5 div.sk-toggleable__content {max-height: 0;max-width: 0;overflow: hidden;text-align: left;background-color: #f0f8ff;}#sk-container-id-5 div.sk-toggleable__content pre {margin: 0.2em;color: black;border-radius: 0.25em;background-color: #f0f8ff;}#sk-container-id-5 input.sk-toggleable__control:checked~div.sk-toggleable__content {max-height: 200px;max-width: 100%;overflow: auto;}#sk-container-id-5 input.sk-toggleable__control:checked~label.sk-toggleable__label-arrow:before {content: \"▾\";}#sk-container-id-5 div.sk-estimator input.sk-toggleable__control:checked~label.sk-toggleable__label {background-color: #d4ebff;}#sk-container-id-5 div.sk-label input.sk-toggleable__control:checked~label.sk-toggleable__label {background-color: #d4ebff;}#sk-container-id-5 input.sk-hidden--visually {border: 0;clip: rect(1px 1px 1px 1px);clip: rect(1px, 1px, 1px, 1px);height: 1px;margin: -1px;overflow: hidden;padding: 0;position: absolute;width: 1px;}#sk-container-id-5 div.sk-estimator {font-family: monospace;background-color: #f0f8ff;border: 1px dotted black;border-radius: 0.25em;box-sizing: border-box;margin-bottom: 0.5em;}#sk-container-id-5 div.sk-estimator:hover {background-color: #d4ebff;}#sk-container-id-5 div.sk-parallel-item::after {content: \"\";width: 100%;border-bottom: 1px solid gray;flex-grow: 1;}#sk-container-id-5 div.sk-label:hover label.sk-toggleable__label {background-color: #d4ebff;}#sk-container-id-5 div.sk-serial::before {content: \"\";position: absolute;border-left: 1px solid gray;box-sizing: border-box;top: 0;bottom: 0;left: 50%;z-index: 0;}#sk-container-id-5 div.sk-serial {display: flex;flex-direction: column;align-items: center;background-color: white;padding-right: 0.2em;padding-left: 0.2em;position: relative;}#sk-container-id-5 div.sk-item {position: relative;z-index: 1;}#sk-container-id-5 div.sk-parallel {display: flex;align-items: stretch;justify-content: center;background-color: white;position: relative;}#sk-container-id-5 div.sk-item::before, #sk-container-id-5 div.sk-parallel-item::before {content: \"\";position: absolute;border-left: 1px solid gray;box-sizing: border-box;top: 0;bottom: 0;left: 50%;z-index: -1;}#sk-container-id-5 div.sk-parallel-item {display: flex;flex-direction: column;z-index: 1;position: relative;background-color: white;}#sk-container-id-5 div.sk-parallel-item:first-child::after {align-self: flex-end;width: 50%;}#sk-container-id-5 div.sk-parallel-item:last-child::after {align-self: flex-start;width: 50%;}#sk-container-id-5 div.sk-parallel-item:only-child::after {width: 0;}#sk-container-id-5 div.sk-dashed-wrapped {border: 1px dashed gray;margin: 0 0.4em 0.5em 0.4em;box-sizing: border-box;padding-bottom: 0.4em;background-color: white;}#sk-container-id-5 div.sk-label label {font-family: monospace;font-weight: bold;display: inline-block;line-height: 1.2em;}#sk-container-id-5 div.sk-label-container {text-align: center;}#sk-container-id-5 div.sk-container {/* jupyter's `normalize.less` sets `[hidden] { display: none; }` but bootstrap.min.css set `[hidden] { display: none !important; }` so we also need the `!important` here to be able to override the default hidden behavior on the sphinx rendered scikit-learn.org. See: https://github.com/scikit-learn/scikit-learn/issues/21755 */display: inline-block !important;position: relative;}#sk-container-id-5 div.sk-text-repr-fallback {display: none;}</style><div id=\"sk-container-id-5\" class=\"sk-top-container\"><div class=\"sk-text-repr-fallback\"><pre>Pipeline(steps=[(&#x27;robustscaler&#x27;, RobustScaler()),\n                (&#x27;mlpclassifier&#x27;,\n                 MLPClassifier(max_iter=300, random_state=42, solver=&#x27;lbfgs&#x27;))])</pre><b>In a Jupyter environment, please rerun this cell to show the HTML representation or trust the notebook. <br />On GitHub, the HTML representation is unable to render, please try loading this page with nbviewer.org.</b></div><div class=\"sk-container\" hidden><div class=\"sk-item sk-dashed-wrapped\"><div class=\"sk-label-container\"><div class=\"sk-label sk-toggleable\"><input class=\"sk-toggleable__control sk-hidden--visually\" id=\"sk-estimator-id-13\" type=\"checkbox\" ><label for=\"sk-estimator-id-13\" class=\"sk-toggleable__label sk-toggleable__label-arrow\">Pipeline</label><div class=\"sk-toggleable__content\"><pre>Pipeline(steps=[(&#x27;robustscaler&#x27;, RobustScaler()),\n                (&#x27;mlpclassifier&#x27;,\n                 MLPClassifier(max_iter=300, random_state=42, solver=&#x27;lbfgs&#x27;))])</pre></div></div></div><div class=\"sk-serial\"><div class=\"sk-item\"><div class=\"sk-estimator sk-toggleable\"><input class=\"sk-toggleable__control sk-hidden--visually\" id=\"sk-estimator-id-14\" type=\"checkbox\" ><label for=\"sk-estimator-id-14\" class=\"sk-toggleable__label sk-toggleable__label-arrow\">RobustScaler</label><div class=\"sk-toggleable__content\"><pre>RobustScaler()</pre></div></div></div><div class=\"sk-item\"><div class=\"sk-estimator sk-toggleable\"><input class=\"sk-toggleable__control sk-hidden--visually\" id=\"sk-estimator-id-15\" type=\"checkbox\" ><label for=\"sk-estimator-id-15\" class=\"sk-toggleable__label sk-toggleable__label-arrow\">MLPClassifier</label><div class=\"sk-toggleable__content\"><pre>MLPClassifier(max_iter=300, random_state=42, solver=&#x27;lbfgs&#x27;)</pre></div></div></div></div></div></div></div>"
     },
     "execution_count": 70,
     "metadata": {},
     "output_type": "execute_result"
    }
   ],
   "source": [
    "X_train_ours, y_train_ours = preprocessing(sym_trVal_img_fixed), sym_trVal_label_fixed\n",
    "\n",
    "nn_clf_ours.fit(X_train_ours, y_train_ours)"
   ],
   "metadata": {
    "collapsed": false,
    "ExecuteTime": {
     "end_time": "2023-11-24T12:12:31.553574300Z",
     "start_time": "2023-11-24T12:11:58.266953800Z"
    }
   },
   "id": "972cc686c50f9344"
  },
  {
   "cell_type": "code",
   "execution_count": 71,
   "outputs": [],
   "source": [
    "# using label mismatch\n",
    "\n",
    "size = np.shape(X_train_ours)[0]\n",
    "\n",
    "list_ours = []\n",
    "\n",
    "for i in range(size):\n",
    "    curr = np.reshape(X_train_ours[i].copy(), (1,-1))\n",
    "    label = sym_trVal_label_fixed[i]\n",
    "\n",
    "    predict_ours = nn_clf_ours.predict(curr)\n",
    "\n",
    "    if predict_ours != label:\n",
    "        list_ours = np.append(list_ours, i)\n",
    "    "
   ],
   "metadata": {
    "collapsed": false,
    "ExecuteTime": {
     "end_time": "2023-11-24T12:12:38.477851100Z",
     "start_time": "2023-11-24T12:12:34.634151200Z"
    }
   },
   "id": "860cb8731f76826c"
  },
  {
   "cell_type": "code",
   "execution_count": 78,
   "outputs": [
    {
     "data": {
      "text/plain": "54"
     },
     "execution_count": 78,
     "metadata": {},
     "output_type": "execute_result"
    }
   ],
   "source": [
    "len(list_ours)"
   ],
   "metadata": {
    "collapsed": false,
    "ExecuteTime": {
     "end_time": "2023-11-24T12:15:07.706071200Z",
     "start_time": "2023-11-24T12:15:07.666624500Z"
    }
   },
   "id": "a91804b83f2ba37b"
  },
  {
   "cell_type": "code",
   "execution_count": 80,
   "outputs": [],
   "source": [
    "# for i in list_ours.astype(\"int64\"):\n",
    "#     plot_digit(sym_trVal_img_fixed[i])\n",
    "#     plt.show()\n",
    "#     print(f\"index: {i}\")\n",
    "#     print(sym_trVal_label_fixed[i])"
   ],
   "metadata": {
    "collapsed": false,
    "ExecuteTime": {
     "end_time": "2023-11-24T12:17:14.237271400Z",
     "start_time": "2023-11-24T12:17:13.923922100Z"
    }
   },
   "id": "e97095bd0e681f7"
  },
  {
   "cell_type": "code",
   "execution_count": 82,
   "outputs": [
    {
     "ename": "ValueError",
     "evalue": "invalid literal for int() with base 10: '='",
     "output_type": "error",
     "traceback": [
      "\u001B[1;31m---------------------------------------------------------------------------\u001B[0m",
      "\u001B[1;31mValueError\u001B[0m                                Traceback (most recent call last)",
      "Cell \u001B[1;32mIn[82], line 11\u001B[0m\n\u001B[0;32m      8\u001B[0m curr \u001B[38;5;241m=\u001B[39m np\u001B[38;5;241m.\u001B[39mreshape(X_train_ours[i]\u001B[38;5;241m.\u001B[39mcopy(), (\u001B[38;5;241m1\u001B[39m, \u001B[38;5;241m-\u001B[39m\u001B[38;5;241m1\u001B[39m))\n\u001B[0;32m      9\u001B[0m label \u001B[38;5;241m=\u001B[39m sym_trVal_label_fixed[i]\n\u001B[1;32m---> 11\u001B[0m prediction \u001B[38;5;241m=\u001B[39m \u001B[38;5;28mint\u001B[39m (nn_clf_ours\u001B[38;5;241m.\u001B[39mpredict(curr))\n\u001B[0;32m     12\u001B[0m score_ours \u001B[38;5;241m=\u001B[39m nn_clf_ours\u001B[38;5;241m.\u001B[39mpredict_proba(curr)[\u001B[38;5;241m0\u001B[39m,prediction]\n\u001B[0;32m     13\u001B[0m threshold \u001B[38;5;241m=\u001B[39m \u001B[38;5;241m0.75\u001B[39m\n",
      "\u001B[1;31mValueError\u001B[0m: invalid literal for int() with base 10: '='"
     ]
    }
   ],
   "source": [
    "# using predict_proba\n",
    "\n",
    "size = np.shape(X_train_ours)[0]\n",
    "\n",
    "list_ours = []\n",
    "\n",
    "for i in range(size):\n",
    "    curr = np.reshape(X_train_ours[i].copy(), (1, -1))\n",
    "    label = sym_trVal_label_fixed[i]\n",
    "\n",
    "    prediction = nn_clf_ours.predict(curr)\n",
    "    score_ours = nn_clf_ours.predict_proba(curr)[0,prediction]\n",
    "    threshold = 0.75\n",
    "\n",
    "    if score_ours <= threshold:\n",
    "        list_ours = np.append(list_ours, i)\n",
    "        \n",
    "    "
   ],
   "metadata": {
    "collapsed": false,
    "ExecuteTime": {
     "end_time": "2023-11-24T12:18:08.676748600Z",
     "start_time": "2023-11-24T12:18:08.446435200Z"
    }
   },
   "id": "d0d62513ccc7acef"
  },
  {
   "cell_type": "code",
   "execution_count": null,
   "outputs": [],
   "source": [
    "len(list_ours)"
   ],
   "metadata": {
    "collapsed": false
   },
   "id": "c73b7f40c3fab576"
  },
  {
   "cell_type": "markdown",
   "source": [
    "## symbolic test"
   ],
   "metadata": {
    "collapsed": false
   },
   "id": "1aa4395473ca1764"
  },
  {
   "cell_type": "code",
   "execution_count": null,
   "outputs": [],
   "source": [
    "sym_test_img_fixed = curr_data_sym_test[\"img\"].copy()\n",
    "sym_test_label_fixed = curr_data_sym_test[\"label\"].copy()"
   ],
   "metadata": {
    "collapsed": false
   },
   "id": "b2a4f31ff543ef31"
  },
  {
   "cell_type": "code",
   "execution_count": null,
   "outputs": [],
   "source": [
    "X_test_ours, y_test_ours = preprocessing(sym_test_img_fixed), sym_test_label_fixed\n",
    "\n",
    "nn_clf_ours.fit(X_train_ours, y_train_ours)"
   ],
   "metadata": {
    "collapsed": false
   },
   "id": "7bb9f0c259822f75"
  },
  {
   "cell_type": "code",
   "execution_count": null,
   "outputs": [],
   "source": [
    "# using label mismatch\n",
    "\n",
    "size = np.shape(X_test_ours)[0]\n",
    "\n",
    "list_ours = []\n",
    "\n",
    "for i in range(size):\n",
    "    curr = np.reshape(X_test_ours[i].copy(), (1,-1))\n",
    "    label = curr_data_num_test[\"label\"][i]\n",
    "\n",
    "    predict_ours = nn_clf_ours.predict(curr)\n",
    "\n",
    "    if predict_ours != label:\n",
    "        list_ours = np.append(list_ours, i)\n",
    "    "
   ],
   "metadata": {
    "collapsed": false
   },
   "id": "2edea3682b3928c"
  }
 ],
 "metadata": {
  "kernelspec": {
   "display_name": "Python 3",
   "language": "python",
   "name": "python3"
  },
  "language_info": {
   "codemirror_mode": {
    "name": "ipython",
    "version": 2
   },
   "file_extension": ".py",
   "mimetype": "text/x-python",
   "name": "python",
   "nbconvert_exporter": "python",
   "pygments_lexer": "ipython2",
   "version": "2.7.6"
  }
 },
 "nbformat": 4,
 "nbformat_minor": 5
}
