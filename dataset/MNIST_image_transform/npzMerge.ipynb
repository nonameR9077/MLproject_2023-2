{
 "cells": [
  {
   "cell_type": "code",
   "execution_count": 4,
   "id": "initial_id",
   "metadata": {
    "collapsed": true,
    "ExecuteTime": {
     "end_time": "2023-11-13T07:33:04.105810300Z",
     "start_time": "2023-11-13T07:33:04.078565200Z"
    }
   },
   "outputs": [
    {
     "name": "stdout",
     "output_type": "stream",
     "text": [
      "sys.version_info(major=3, minor=11, micro=4, releaselevel='final', serial=0)\n",
      "Scikit-Learn version:  1.3.0\n"
     ]
    }
   ],
   "source": [
    "import sys\n",
    "print(sys.version_info)\n",
    "assert sys.version_info >= (3, 7)\n",
    "\n",
    "from packaging import version\n",
    "import sklearn\n",
    "print (\"Scikit-Learn version: \", sklearn.__version__)\n",
    "assert version.parse(sklearn.__version__) >= version.parse(\"1.0.1\")\n",
    "\n",
    "# Common imports\n",
    "import numpy as np\n",
    "import os\n",
    "\n",
    "# to make this notebook's output stable across runs\n",
    "np.random.seed(42)"
   ]
  },
  {
   "cell_type": "markdown",
   "source": [
    "## data preparation"
   ],
   "metadata": {
    "collapsed": false
   },
   "id": "d9bd89a9421acaa8"
  },
  {
   "cell_type": "code",
   "execution_count": 5,
   "outputs": [
    {
     "name": "stdout",
     "output_type": "stream",
     "text": [
      "npz\n"
     ]
    }
   ],
   "source": [
    "from pathlib import Path\n",
    "\n",
    "path = Path() / \"npz\"\n",
    "print(path)"
   ],
   "metadata": {
    "collapsed": false,
    "ExecuteTime": {
     "end_time": "2023-11-13T07:33:05.467093800Z",
     "start_time": "2023-11-13T07:33:05.451389Z"
    }
   },
   "id": "30f7443c78243349"
  },
  {
   "cell_type": "markdown",
   "source": [
    "### data check\n",
    "**no need if you are sure**"
   ],
   "metadata": {
    "collapsed": false
   },
   "id": "670096b7806eaff6"
  },
  {
   "cell_type": "code",
   "execution_count": 18,
   "outputs": [
    {
     "name": "stdout",
     "output_type": "stream",
     "text": [
      "1번쨰 데이터 체크: \n",
      "(400, 28, 28) (400,) (400, 28, 28) (400,)\n",
      "2번쨰 데이터 체크: \n",
      "(400, 28, 28) (400,) (400, 28, 28) (400,)\n",
      "3번쨰 데이터 체크: \n",
      "(400, 28, 28) (400,) (400, 28, 28) (400,)\n",
      "4번쨰 데이터 체크: \n",
      "(400, 28, 28) (400,) (400, 28, 28) (400,)\n"
     ]
    }
   ],
   "source": [
    "dataSize = 4\n",
    "\n",
    "for i in range(1, dataSize+1):\n",
    "    num_curr = \"num%d.npz\"%i\n",
    "    sym_curr = \"sym%d.npz\"%i\n",
    "    \n",
    "    num = np.load(path / num_curr)\n",
    "    sym = np.load(path / sym_curr)\n",
    "    \n",
    "    num_data, num_label = num['img'], num['label']\n",
    "    sym_data, sym_label = sym['img'], sym['label']\n",
    "    \n",
    "    print(f\"{i}번쨰 데이터 체크: \")\n",
    "    print(num_data.shape,num_label.shape,sym_data.shape,sym_label.shape)"
   ],
   "metadata": {
    "collapsed": false,
    "ExecuteTime": {
     "end_time": "2023-11-13T07:56:54.707433200Z",
     "start_time": "2023-11-13T07:56:54.657873500Z"
    }
   },
   "id": "ce012e9a5ca87b36"
  },
  {
   "cell_type": "markdown",
   "source": [
    "## merge"
   ],
   "metadata": {
    "collapsed": false
   },
   "id": "300e9278ec1571d7"
  },
  {
   "cell_type": "code",
   "execution_count": 22,
   "outputs": [
    {
     "name": "stdout",
     "output_type": "stream",
     "text": [
      "(1600, 784) (1600,) (1600, 784) (1600,)\n"
     ]
    }
   ],
   "source": [
    "dataSize = 4\n",
    "num_final_data = []\n",
    "sym_final_data = []\n",
    "\n",
    "num_final_label = []\n",
    "sym_final_label = []\n",
    "\n",
    "for i in range(1, dataSize+1):\n",
    "    num_curr = \"num%d.npz\"%i\n",
    "    sym_curr = \"sym%d.npz\"%i\n",
    "    \n",
    "    num = np.load(path / num_curr)\n",
    "    sym = np.load(path / sym_curr)\n",
    "    \n",
    "    num_data, num_label = num['img'].reshape(400,784), num['label']\n",
    "    sym_data, sym_label = sym['img'].reshape(400,784), sym['label']\n",
    "    \n",
    "    if i == 1:\n",
    "        num_final_label = num_label\n",
    "        sym_final_label = sym_label\n",
    "        \n",
    "        num_final_data = num_data\n",
    "        sym_final_data = sym_data\n",
    "    else:\n",
    "        num_final_data = np.concatenate((num_final_data, num_data), axis=0)\n",
    "        sym_final_data = np.concatenate((sym_final_data, sym_data), axis=0)\n",
    "        \n",
    "        num_final_label = np.concatenate((num_final_label, num_label), axis=0)\n",
    "        sym_final_label = np.concatenate((sym_final_label, sym_label), axis=0)\n",
    "\n",
    "print(num_final_data.shape, num_final_label.shape,sym_final_data.shape,sym_final_label.shape)"
   ],
   "metadata": {
    "collapsed": false,
    "ExecuteTime": {
     "end_time": "2023-11-13T08:10:02.288675400Z",
     "start_time": "2023-11-13T08:10:02.221885800Z"
    }
   },
   "id": "43be9ad02aaebf2e"
  },
  {
   "cell_type": "markdown",
   "source": [
    "## save"
   ],
   "metadata": {
    "collapsed": false
   },
   "id": "61fae453ab10da7d"
  },
  {
   "cell_type": "code",
   "execution_count": 24,
   "outputs": [],
   "source": [
    "np.savez_compressed(path / 'fixed_final_num.npz',img=num_final_data,label=num_final_label)\n",
    "np.savez_compressed(path / 'fixed_final_sym.npz',img=sym_final_data,label=sym_final_label)"
   ],
   "metadata": {
    "collapsed": false,
    "ExecuteTime": {
     "end_time": "2023-11-13T08:15:48.263053100Z",
     "start_time": "2023-11-13T08:15:48.132499300Z"
    }
   },
   "id": "236205e560d66b57"
  },
  {
   "cell_type": "code",
   "execution_count": null,
   "outputs": [],
   "source": [],
   "metadata": {
    "collapsed": false
   },
   "id": "36c9b681e7af5f65"
  }
 ],
 "metadata": {
  "kernelspec": {
   "display_name": "Python 3",
   "language": "python",
   "name": "python3"
  },
  "language_info": {
   "codemirror_mode": {
    "name": "ipython",
    "version": 2
   },
   "file_extension": ".py",
   "mimetype": "text/x-python",
   "name": "python",
   "nbconvert_exporter": "python",
   "pygments_lexer": "ipython2",
   "version": "2.7.6"
  }
 },
 "nbformat": 4,
 "nbformat_minor": 5
}
